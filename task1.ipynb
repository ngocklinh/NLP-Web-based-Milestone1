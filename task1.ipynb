{
 "cells": [
  {
   "cell_type": "markdown",
   "metadata": {},
   "source": [
    "# Assignment 2: Milestone I Natural Language Processing\n",
    "## Task 1. Basic Text Pre-processing\n",
    "#### Student Name: Ngoc Khanh Linh Nguyen\n",
    "#### Student ID: 3927588\n",
    "\n",
    "Date: 20/09/2023\n",
    "\n",
    "Version: 1.0\n",
    "\n",
    "Environment: Python 3 and Jupyter notebook\n",
    "\n",
    "Libraries used: please include all the libraries you used in your assignment, e.g.,:\n",
    "* pandas\n",
    "* re\n",
    "* numpy\n",
    "\n",
    "## Introduction\n",
    "You should give a brief information of this assessment task here.\n",
    "\n",
    "<span style=\"color: red\"> Note that this is a sample notebook only. You will need to fill in the proper markdown and code blocks. You might also want to make necessary changes to the structure to meet your own needs. Note also that any generic comments written in this notebook are to be removed and replace with your own words.</span>"
   ]
  },
  {
   "cell_type": "markdown",
   "metadata": {},
   "source": [
    "## Importing libraries "
   ]
  },
  {
   "cell_type": "code",
   "execution_count": 1,
   "metadata": {},
   "outputs": [],
   "source": [
    "# Code to import libraries as you need in this assessment, e.g.,\n",
    "import pandas as pd \n",
    "from sklearn.datasets import load_files\n",
    "import re\n",
    "import numpy as np "
   ]
  },
  {
   "cell_type": "markdown",
   "metadata": {},
   "source": [
    "### 1.1 Examining and loading data\n",
    "- examine the data folder, including the categories and job advertisement txt documents, etc. Explain your findings here, e.g., number of folders and format of txt files, etc.\n",
    "- Load the data into proper data structures and get it ready for processing.\n",
    "- Extract webIndex and description into proper data structures.\n"
   ]
  },
  {
   "cell_type": "code",
   "execution_count": 2,
   "metadata": {},
   "outputs": [],
   "source": [
    "# Code to inspect the provided data file...\n",
    "job_data = load_files(r\"./data\")"
   ]
  },
  {
   "cell_type": "code",
   "execution_count": 3,
   "metadata": {},
   "outputs": [
    {
     "data": {
      "text/plain": [
       "array(['./data\\\\Accounting_Finance\\\\Job_00382.txt',\n",
       "       './data\\\\Accounting_Finance\\\\Job_00354.txt',\n",
       "       './data\\\\Healthcare_Nursing\\\\Job_00547.txt',\n",
       "       './data\\\\Accounting_Finance\\\\Job_00246.txt',\n",
       "       './data\\\\Healthcare_Nursing\\\\Job_00543.txt',\n",
       "       './data\\\\Engineering\\\\Job_00089.txt',\n",
       "       './data\\\\Healthcare_Nursing\\\\Job_00580.txt',\n",
       "       './data\\\\Accounting_Finance\\\\Job_00419.txt',\n",
       "       './data\\\\Sales\\\\Job_00767.txt', './data\\\\Sales\\\\Job_00670.txt',\n",
       "       './data\\\\Accounting_Finance\\\\Job_00263.txt',\n",
       "       './data\\\\Accounting_Finance\\\\Job_00374.txt',\n",
       "       './data\\\\Engineering\\\\Job_00111.txt',\n",
       "       './data\\\\Sales\\\\Job_00775.txt',\n",
       "       './data\\\\Engineering\\\\Job_00057.txt',\n",
       "       './data\\\\Sales\\\\Job_00642.txt', './data\\\\Sales\\\\Job_00657.txt',\n",
       "       './data\\\\Engineering\\\\Job_00209.txt',\n",
       "       './data\\\\Sales\\\\Job_00746.txt',\n",
       "       './data\\\\Healthcare_Nursing\\\\Job_00479.txt',\n",
       "       './data\\\\Healthcare_Nursing\\\\Job_00491.txt',\n",
       "       './data\\\\Healthcare_Nursing\\\\Job_00454.txt',\n",
       "       './data\\\\Sales\\\\Job_00745.txt', './data\\\\Sales\\\\Job_00649.txt',\n",
       "       './data\\\\Accounting_Finance\\\\Job_00259.txt',\n",
       "       './data\\\\Healthcare_Nursing\\\\Job_00603.txt',\n",
       "       './data\\\\Healthcare_Nursing\\\\Job_00583.txt',\n",
       "       './data\\\\Healthcare_Nursing\\\\Job_00610.txt',\n",
       "       './data\\\\Accounting_Finance\\\\Job_00394.txt',\n",
       "       './data\\\\Healthcare_Nursing\\\\Job_00507.txt',\n",
       "       './data\\\\Sales\\\\Job_00696.txt',\n",
       "       './data\\\\Engineering\\\\Job_00168.txt',\n",
       "       './data\\\\Healthcare_Nursing\\\\Job_00615.txt',\n",
       "       './data\\\\Accounting_Finance\\\\Job_00317.txt',\n",
       "       './data\\\\Engineering\\\\Job_00200.txt',\n",
       "       './data\\\\Sales\\\\Job_00774.txt', './data\\\\Sales\\\\Job_00716.txt',\n",
       "       './data\\\\Engineering\\\\Job_00128.txt',\n",
       "       './data\\\\Engineering\\\\Job_00032.txt',\n",
       "       './data\\\\Accounting_Finance\\\\Job_00272.txt',\n",
       "       './data\\\\Healthcare_Nursing\\\\Job_00494.txt',\n",
       "       './data\\\\Healthcare_Nursing\\\\Job_00490.txt',\n",
       "       './data\\\\Healthcare_Nursing\\\\Job_00594.txt',\n",
       "       './data\\\\Healthcare_Nursing\\\\Job_00426.txt',\n",
       "       './data\\\\Accounting_Finance\\\\Job_00240.txt',\n",
       "       './data\\\\Accounting_Finance\\\\Job_00345.txt',\n",
       "       './data\\\\Healthcare_Nursing\\\\Job_00559.txt',\n",
       "       './data\\\\Engineering\\\\Job_00211.txt',\n",
       "       './data\\\\Sales\\\\Job_00734.txt',\n",
       "       './data\\\\Engineering\\\\Job_00014.txt',\n",
       "       './data\\\\Engineering\\\\Job_00012.txt',\n",
       "       './data\\\\Healthcare_Nursing\\\\Job_00586.txt',\n",
       "       './data\\\\Healthcare_Nursing\\\\Job_00429.txt',\n",
       "       './data\\\\Sales\\\\Job_00667.txt',\n",
       "       './data\\\\Accounting_Finance\\\\Job_00287.txt',\n",
       "       './data\\\\Accounting_Finance\\\\Job_00307.txt',\n",
       "       './data\\\\Engineering\\\\Job_00073.txt',\n",
       "       './data\\\\Accounting_Finance\\\\Job_00233.txt',\n",
       "       './data\\\\Healthcare_Nursing\\\\Job_00444.txt',\n",
       "       './data\\\\Healthcare_Nursing\\\\Job_00459.txt',\n",
       "       './data\\\\Sales\\\\Job_00707.txt', './data\\\\Sales\\\\Job_00671.txt',\n",
       "       './data\\\\Sales\\\\Job_00668.txt',\n",
       "       './data\\\\Accounting_Finance\\\\Job_00311.txt',\n",
       "       './data\\\\Sales\\\\Job_00763.txt',\n",
       "       './data\\\\Accounting_Finance\\\\Job_00335.txt',\n",
       "       './data\\\\Engineering\\\\Job_00161.txt',\n",
       "       './data\\\\Healthcare_Nursing\\\\Job_00501.txt',\n",
       "       './data\\\\Sales\\\\Job_00770.txt',\n",
       "       './data\\\\Engineering\\\\Job_00076.txt',\n",
       "       './data\\\\Sales\\\\Job_00686.txt',\n",
       "       './data\\\\Healthcare_Nursing\\\\Job_00452.txt',\n",
       "       './data\\\\Sales\\\\Job_00632.txt',\n",
       "       './data\\\\Engineering\\\\Job_00214.txt',\n",
       "       './data\\\\Sales\\\\Job_00729.txt',\n",
       "       './data\\\\Healthcare_Nursing\\\\Job_00536.txt',\n",
       "       './data\\\\Engineering\\\\Job_00126.txt',\n",
       "       './data\\\\Sales\\\\Job_00681.txt',\n",
       "       './data\\\\Healthcare_Nursing\\\\Job_00593.txt',\n",
       "       './data\\\\Engineering\\\\Job_00199.txt',\n",
       "       './data\\\\Sales\\\\Job_00692.txt',\n",
       "       './data\\\\Healthcare_Nursing\\\\Job_00564.txt',\n",
       "       './data\\\\Healthcare_Nursing\\\\Job_00591.txt',\n",
       "       './data\\\\Engineering\\\\Job_00112.txt',\n",
       "       './data\\\\Accounting_Finance\\\\Job_00377.txt',\n",
       "       './data\\\\Engineering\\\\Job_00166.txt',\n",
       "       './data\\\\Engineering\\\\Job_00165.txt',\n",
       "       './data\\\\Engineering\\\\Job_00219.txt',\n",
       "       './data\\\\Sales\\\\Job_00684.txt',\n",
       "       './data\\\\Accounting_Finance\\\\Job_00250.txt',\n",
       "       './data\\\\Sales\\\\Job_00757.txt',\n",
       "       './data\\\\Engineering\\\\Job_00050.txt',\n",
       "       './data\\\\Sales\\\\Job_00761.txt',\n",
       "       './data\\\\Healthcare_Nursing\\\\Job_00554.txt',\n",
       "       './data\\\\Healthcare_Nursing\\\\Job_00442.txt',\n",
       "       './data\\\\Accounting_Finance\\\\Job_00282.txt',\n",
       "       './data\\\\Healthcare_Nursing\\\\Job_00568.txt',\n",
       "       './data\\\\Sales\\\\Job_00627.txt',\n",
       "       './data\\\\Healthcare_Nursing\\\\Job_00562.txt',\n",
       "       './data\\\\Engineering\\\\Job_00052.txt',\n",
       "       './data\\\\Accounting_Finance\\\\Job_00271.txt',\n",
       "       './data\\\\Engineering\\\\Job_00051.txt',\n",
       "       './data\\\\Engineering\\\\Job_00078.txt',\n",
       "       './data\\\\Healthcare_Nursing\\\\Job_00532.txt',\n",
       "       './data\\\\Accounting_Finance\\\\Job_00242.txt',\n",
       "       './data\\\\Sales\\\\Job_00641.txt',\n",
       "       './data\\\\Accounting_Finance\\\\Job_00300.txt',\n",
       "       './data\\\\Engineering\\\\Job_00068.txt',\n",
       "       './data\\\\Sales\\\\Job_00714.txt',\n",
       "       './data\\\\Healthcare_Nursing\\\\Job_00493.txt',\n",
       "       './data\\\\Engineering\\\\Job_00225.txt',\n",
       "       './data\\\\Healthcare_Nursing\\\\Job_00480.txt',\n",
       "       './data\\\\Accounting_Finance\\\\Job_00234.txt',\n",
       "       './data\\\\Sales\\\\Job_00769.txt',\n",
       "       './data\\\\Engineering\\\\Job_00213.txt',\n",
       "       './data\\\\Engineering\\\\Job_00192.txt',\n",
       "       './data\\\\Engineering\\\\Job_00227.txt',\n",
       "       './data\\\\Engineering\\\\Job_00020.txt',\n",
       "       './data\\\\Engineering\\\\Job_00195.txt',\n",
       "       './data\\\\Engineering\\\\Job_00093.txt',\n",
       "       './data\\\\Engineering\\\\Job_00062.txt',\n",
       "       './data\\\\Engineering\\\\Job_00065.txt',\n",
       "       './data\\\\Sales\\\\Job_00718.txt',\n",
       "       './data\\\\Engineering\\\\Job_00060.txt',\n",
       "       './data\\\\Engineering\\\\Job_00177.txt',\n",
       "       './data\\\\Engineering\\\\Job_00141.txt',\n",
       "       './data\\\\Engineering\\\\Job_00049.txt',\n",
       "       './data\\\\Engineering\\\\Job_00229.txt',\n",
       "       './data\\\\Sales\\\\Job_00703.txt',\n",
       "       './data\\\\Engineering\\\\Job_00003.txt',\n",
       "       './data\\\\Engineering\\\\Job_00061.txt',\n",
       "       './data\\\\Sales\\\\Job_00672.txt',\n",
       "       './data\\\\Healthcare_Nursing\\\\Job_00527.txt',\n",
       "       './data\\\\Accounting_Finance\\\\Job_00303.txt',\n",
       "       './data\\\\Accounting_Finance\\\\Job_00281.txt',\n",
       "       './data\\\\Engineering\\\\Job_00025.txt',\n",
       "       './data\\\\Sales\\\\Job_00621.txt',\n",
       "       './data\\\\Healthcare_Nursing\\\\Job_00502.txt',\n",
       "       './data\\\\Accounting_Finance\\\\Job_00269.txt',\n",
       "       './data\\\\Engineering\\\\Job_00222.txt',\n",
       "       './data\\\\Accounting_Finance\\\\Job_00280.txt',\n",
       "       './data\\\\Sales\\\\Job_00735.txt',\n",
       "       './data\\\\Engineering\\\\Job_00123.txt',\n",
       "       './data\\\\Healthcare_Nursing\\\\Job_00475.txt',\n",
       "       './data\\\\Engineering\\\\Job_00024.txt',\n",
       "       './data\\\\Accounting_Finance\\\\Job_00388.txt',\n",
       "       './data\\\\Accounting_Finance\\\\Job_00308.txt',\n",
       "       './data\\\\Accounting_Finance\\\\Job_00296.txt',\n",
       "       './data\\\\Sales\\\\Job_00719.txt',\n",
       "       './data\\\\Accounting_Finance\\\\Job_00284.txt',\n",
       "       './data\\\\Engineering\\\\Job_00156.txt',\n",
       "       './data\\\\Healthcare_Nursing\\\\Job_00423.txt',\n",
       "       './data\\\\Sales\\\\Job_00758.txt',\n",
       "       './data\\\\Engineering\\\\Job_00127.txt',\n",
       "       './data\\\\Engineering\\\\Job_00045.txt',\n",
       "       './data\\\\Engineering\\\\Job_00109.txt',\n",
       "       './data\\\\Healthcare_Nursing\\\\Job_00437.txt',\n",
       "       './data\\\\Engineering\\\\Job_00040.txt',\n",
       "       './data\\\\Accounting_Finance\\\\Job_00350.txt',\n",
       "       './data\\\\Engineering\\\\Job_00063.txt',\n",
       "       './data\\\\Accounting_Finance\\\\Job_00389.txt',\n",
       "       './data\\\\Engineering\\\\Job_00088.txt',\n",
       "       './data\\\\Accounting_Finance\\\\Job_00404.txt',\n",
       "       './data\\\\Engineering\\\\Job_00008.txt',\n",
       "       './data\\\\Engineering\\\\Job_00120.txt',\n",
       "       './data\\\\Healthcare_Nursing\\\\Job_00576.txt',\n",
       "       './data\\\\Accounting_Finance\\\\Job_00329.txt',\n",
       "       './data\\\\Healthcare_Nursing\\\\Job_00537.txt',\n",
       "       './data\\\\Healthcare_Nursing\\\\Job_00588.txt',\n",
       "       './data\\\\Accounting_Finance\\\\Job_00407.txt',\n",
       "       './data\\\\Healthcare_Nursing\\\\Job_00477.txt',\n",
       "       './data\\\\Sales\\\\Job_00765.txt',\n",
       "       './data\\\\Healthcare_Nursing\\\\Job_00425.txt',\n",
       "       './data\\\\Healthcare_Nursing\\\\Job_00531.txt',\n",
       "       './data\\\\Accounting_Finance\\\\Job_00413.txt',\n",
       "       './data\\\\Healthcare_Nursing\\\\Job_00605.txt',\n",
       "       './data\\\\Engineering\\\\Job_00162.txt',\n",
       "       './data\\\\Accounting_Finance\\\\Job_00249.txt',\n",
       "       './data\\\\Engineering\\\\Job_00104.txt',\n",
       "       './data\\\\Engineering\\\\Job_00077.txt',\n",
       "       './data\\\\Engineering\\\\Job_00071.txt',\n",
       "       './data\\\\Sales\\\\Job_00629.txt',\n",
       "       './data\\\\Engineering\\\\Job_00116.txt',\n",
       "       './data\\\\Sales\\\\Job_00713.txt',\n",
       "       './data\\\\Engineering\\\\Job_00081.txt',\n",
       "       './data\\\\Accounting_Finance\\\\Job_00402.txt',\n",
       "       './data\\\\Sales\\\\Job_00700.txt',\n",
       "       './data\\\\Engineering\\\\Job_00006.txt',\n",
       "       './data\\\\Accounting_Finance\\\\Job_00277.txt',\n",
       "       './data\\\\Healthcare_Nursing\\\\Job_00534.txt',\n",
       "       './data\\\\Accounting_Finance\\\\Job_00294.txt',\n",
       "       './data\\\\Accounting_Finance\\\\Job_00310.txt',\n",
       "       './data\\\\Healthcare_Nursing\\\\Job_00585.txt',\n",
       "       './data\\\\Engineering\\\\Job_00202.txt',\n",
       "       './data\\\\Engineering\\\\Job_00205.txt',\n",
       "       './data\\\\Accounting_Finance\\\\Job_00372.txt',\n",
       "       './data\\\\Engineering\\\\Job_00125.txt',\n",
       "       './data\\\\Sales\\\\Job_00768.txt',\n",
       "       './data\\\\Accounting_Finance\\\\Job_00359.txt',\n",
       "       './data\\\\Engineering\\\\Job_00041.txt',\n",
       "       './data\\\\Engineering\\\\Job_00190.txt',\n",
       "       './data\\\\Sales\\\\Job_00720.txt',\n",
       "       './data\\\\Accounting_Finance\\\\Job_00376.txt',\n",
       "       './data\\\\Engineering\\\\Job_00082.txt',\n",
       "       './data\\\\Accounting_Finance\\\\Job_00253.txt',\n",
       "       './data\\\\Healthcare_Nursing\\\\Job_00617.txt',\n",
       "       './data\\\\Sales\\\\Job_00695.txt',\n",
       "       './data\\\\Accounting_Finance\\\\Job_00267.txt',\n",
       "       './data\\\\Healthcare_Nursing\\\\Job_00484.txt',\n",
       "       './data\\\\Accounting_Finance\\\\Job_00391.txt',\n",
       "       './data\\\\Engineering\\\\Job_00122.txt',\n",
       "       './data\\\\Accounting_Finance\\\\Job_00309.txt',\n",
       "       './data\\\\Engineering\\\\Job_00185.txt',\n",
       "       './data\\\\Sales\\\\Job_00625.txt',\n",
       "       './data\\\\Engineering\\\\Job_00095.txt',\n",
       "       './data\\\\Accounting_Finance\\\\Job_00341.txt',\n",
       "       './data\\\\Engineering\\\\Job_00172.txt',\n",
       "       './data\\\\Engineering\\\\Job_00113.txt',\n",
       "       './data\\\\Accounting_Finance\\\\Job_00333.txt',\n",
       "       './data\\\\Engineering\\\\Job_00129.txt',\n",
       "       './data\\\\Accounting_Finance\\\\Job_00324.txt',\n",
       "       './data\\\\Engineering\\\\Job_00059.txt',\n",
       "       './data\\\\Healthcare_Nursing\\\\Job_00613.txt',\n",
       "       './data\\\\Engineering\\\\Job_00179.txt',\n",
       "       './data\\\\Sales\\\\Job_00728.txt',\n",
       "       './data\\\\Engineering\\\\Job_00164.txt',\n",
       "       './data\\\\Healthcare_Nursing\\\\Job_00482.txt',\n",
       "       './data\\\\Sales\\\\Job_00772.txt',\n",
       "       './data\\\\Engineering\\\\Job_00046.txt',\n",
       "       './data\\\\Engineering\\\\Job_00021.txt',\n",
       "       './data\\\\Healthcare_Nursing\\\\Job_00614.txt',\n",
       "       './data\\\\Accounting_Finance\\\\Job_00397.txt',\n",
       "       './data\\\\Accounting_Finance\\\\Job_00420.txt',\n",
       "       './data\\\\Engineering\\\\Job_00148.txt',\n",
       "       './data\\\\Healthcare_Nursing\\\\Job_00476.txt',\n",
       "       './data\\\\Accounting_Finance\\\\Job_00266.txt',\n",
       "       './data\\\\Sales\\\\Job_00662.txt',\n",
       "       './data\\\\Healthcare_Nursing\\\\Job_00514.txt',\n",
       "       './data\\\\Sales\\\\Job_00773.txt',\n",
       "       './data\\\\Healthcare_Nursing\\\\Job_00549.txt',\n",
       "       './data\\\\Healthcare_Nursing\\\\Job_00483.txt',\n",
       "       './data\\\\Sales\\\\Job_00645.txt',\n",
       "       './data\\\\Accounting_Finance\\\\Job_00387.txt',\n",
       "       './data\\\\Engineering\\\\Job_00216.txt',\n",
       "       './data\\\\Engineering\\\\Job_00174.txt',\n",
       "       './data\\\\Engineering\\\\Job_00173.txt',\n",
       "       './data\\\\Engineering\\\\Job_00137.txt',\n",
       "       './data\\\\Engineering\\\\Job_00053.txt',\n",
       "       './data\\\\Engineering\\\\Job_00010.txt',\n",
       "       './data\\\\Accounting_Finance\\\\Job_00298.txt',\n",
       "       './data\\\\Sales\\\\Job_00647.txt',\n",
       "       './data\\\\Engineering\\\\Job_00154.txt',\n",
       "       './data\\\\Engineering\\\\Job_00196.txt',\n",
       "       './data\\\\Accounting_Finance\\\\Job_00244.txt',\n",
       "       './data\\\\Accounting_Finance\\\\Job_00393.txt',\n",
       "       './data\\\\Healthcare_Nursing\\\\Job_00518.txt',\n",
       "       './data\\\\Engineering\\\\Job_00103.txt',\n",
       "       './data\\\\Healthcare_Nursing\\\\Job_00519.txt',\n",
       "       './data\\\\Healthcare_Nursing\\\\Job_00572.txt',\n",
       "       './data\\\\Healthcare_Nursing\\\\Job_00535.txt',\n",
       "       './data\\\\Healthcare_Nursing\\\\Job_00574.txt',\n",
       "       './data\\\\Engineering\\\\Job_00144.txt',\n",
       "       './data\\\\Sales\\\\Job_00644.txt',\n",
       "       './data\\\\Engineering\\\\Job_00039.txt',\n",
       "       './data\\\\Healthcare_Nursing\\\\Job_00570.txt',\n",
       "       './data\\\\Engineering\\\\Job_00226.txt',\n",
       "       './data\\\\Healthcare_Nursing\\\\Job_00478.txt',\n",
       "       './data\\\\Sales\\\\Job_00709.txt',\n",
       "       './data\\\\Healthcare_Nursing\\\\Job_00598.txt',\n",
       "       './data\\\\Sales\\\\Job_00689.txt',\n",
       "       './data\\\\Accounting_Finance\\\\Job_00247.txt',\n",
       "       './data\\\\Engineering\\\\Job_00055.txt',\n",
       "       './data\\\\Sales\\\\Job_00704.txt',\n",
       "       './data\\\\Accounting_Finance\\\\Job_00238.txt',\n",
       "       './data\\\\Healthcare_Nursing\\\\Job_00525.txt',\n",
       "       './data\\\\Engineering\\\\Job_00155.txt',\n",
       "       './data\\\\Accounting_Finance\\\\Job_00336.txt',\n",
       "       './data\\\\Healthcare_Nursing\\\\Job_00461.txt',\n",
       "       './data\\\\Engineering\\\\Job_00218.txt',\n",
       "       './data\\\\Healthcare_Nursing\\\\Job_00455.txt',\n",
       "       './data\\\\Accounting_Finance\\\\Job_00322.txt',\n",
       "       './data\\\\Healthcare_Nursing\\\\Job_00488.txt',\n",
       "       './data\\\\Engineering\\\\Job_00217.txt',\n",
       "       './data\\\\Engineering\\\\Job_00143.txt',\n",
       "       './data\\\\Engineering\\\\Job_00028.txt',\n",
       "       './data\\\\Healthcare_Nursing\\\\Job_00573.txt',\n",
       "       './data\\\\Healthcare_Nursing\\\\Job_00435.txt',\n",
       "       './data\\\\Engineering\\\\Job_00015.txt',\n",
       "       './data\\\\Healthcare_Nursing\\\\Job_00571.txt',\n",
       "       './data\\\\Accounting_Finance\\\\Job_00422.txt',\n",
       "       './data\\\\Healthcare_Nursing\\\\Job_00505.txt',\n",
       "       './data\\\\Healthcare_Nursing\\\\Job_00533.txt',\n",
       "       './data\\\\Engineering\\\\Job_00004.txt',\n",
       "       './data\\\\Healthcare_Nursing\\\\Job_00495.txt',\n",
       "       './data\\\\Accounting_Finance\\\\Job_00364.txt',\n",
       "       './data\\\\Engineering\\\\Job_00043.txt',\n",
       "       './data\\\\Accounting_Finance\\\\Job_00405.txt',\n",
       "       './data\\\\Accounting_Finance\\\\Job_00410.txt',\n",
       "       './data\\\\Sales\\\\Job_00750.txt',\n",
       "       './data\\\\Healthcare_Nursing\\\\Job_00587.txt',\n",
       "       './data\\\\Engineering\\\\Job_00016.txt',\n",
       "       './data\\\\Sales\\\\Job_00687.txt',\n",
       "       './data\\\\Accounting_Finance\\\\Job_00328.txt',\n",
       "       './data\\\\Sales\\\\Job_00666.txt',\n",
       "       './data\\\\Engineering\\\\Job_00147.txt',\n",
       "       './data\\\\Healthcare_Nursing\\\\Job_00448.txt',\n",
       "       './data\\\\Accounting_Finance\\\\Job_00321.txt',\n",
       "       './data\\\\Engineering\\\\Job_00223.txt',\n",
       "       './data\\\\Accounting_Finance\\\\Job_00411.txt',\n",
       "       './data\\\\Accounting_Finance\\\\Job_00232.txt',\n",
       "       './data\\\\Accounting_Finance\\\\Job_00278.txt',\n",
       "       './data\\\\Accounting_Finance\\\\Job_00403.txt',\n",
       "       './data\\\\Healthcare_Nursing\\\\Job_00619.txt',\n",
       "       './data\\\\Healthcare_Nursing\\\\Job_00616.txt',\n",
       "       './data\\\\Accounting_Finance\\\\Job_00339.txt',\n",
       "       './data\\\\Accounting_Finance\\\\Job_00365.txt',\n",
       "       './data\\\\Healthcare_Nursing\\\\Job_00458.txt',\n",
       "       './data\\\\Engineering\\\\Job_00033.txt',\n",
       "       './data\\\\Healthcare_Nursing\\\\Job_00464.txt',\n",
       "       './data\\\\Accounting_Finance\\\\Job_00334.txt',\n",
       "       './data\\\\Accounting_Finance\\\\Job_00340.txt',\n",
       "       './data\\\\Engineering\\\\Job_00023.txt',\n",
       "       './data\\\\Healthcare_Nursing\\\\Job_00500.txt',\n",
       "       './data\\\\Sales\\\\Job_00633.txt',\n",
       "       './data\\\\Engineering\\\\Job_00056.txt',\n",
       "       './data\\\\Sales\\\\Job_00690.txt',\n",
       "       './data\\\\Healthcare_Nursing\\\\Job_00474.txt',\n",
       "       './data\\\\Accounting_Finance\\\\Job_00357.txt',\n",
       "       './data\\\\Healthcare_Nursing\\\\Job_00463.txt',\n",
       "       './data\\\\Healthcare_Nursing\\\\Job_00557.txt',\n",
       "       './data\\\\Engineering\\\\Job_00228.txt',\n",
       "       './data\\\\Sales\\\\Job_00628.txt',\n",
       "       './data\\\\Engineering\\\\Job_00034.txt',\n",
       "       './data\\\\Accounting_Finance\\\\Job_00258.txt',\n",
       "       './data\\\\Engineering\\\\Job_00175.txt',\n",
       "       './data\\\\Healthcare_Nursing\\\\Job_00472.txt',\n",
       "       './data\\\\Sales\\\\Job_00737.txt',\n",
       "       './data\\\\Engineering\\\\Job_00160.txt',\n",
       "       './data\\\\Accounting_Finance\\\\Job_00235.txt',\n",
       "       './data\\\\Accounting_Finance\\\\Job_00366.txt',\n",
       "       './data\\\\Engineering\\\\Job_00135.txt',\n",
       "       './data\\\\Engineering\\\\Job_00176.txt',\n",
       "       './data\\\\Accounting_Finance\\\\Job_00418.txt',\n",
       "       './data\\\\Healthcare_Nursing\\\\Job_00503.txt',\n",
       "       './data\\\\Engineering\\\\Job_00105.txt',\n",
       "       './data\\\\Sales\\\\Job_00650.txt',\n",
       "       './data\\\\Healthcare_Nursing\\\\Job_00436.txt',\n",
       "       './data\\\\Sales\\\\Job_00759.txt', './data\\\\Sales\\\\Job_00739.txt',\n",
       "       './data\\\\Engineering\\\\Job_00035.txt',\n",
       "       './data\\\\Sales\\\\Job_00636.txt',\n",
       "       './data\\\\Engineering\\\\Job_00140.txt',\n",
       "       './data\\\\Healthcare_Nursing\\\\Job_00433.txt',\n",
       "       './data\\\\Engineering\\\\Job_00142.txt',\n",
       "       './data\\\\Engineering\\\\Job_00184.txt',\n",
       "       './data\\\\Healthcare_Nursing\\\\Job_00597.txt',\n",
       "       './data\\\\Healthcare_Nursing\\\\Job_00528.txt',\n",
       "       './data\\\\Sales\\\\Job_00740.txt', './data\\\\Sales\\\\Job_00680.txt',\n",
       "       './data\\\\Healthcare_Nursing\\\\Job_00523.txt',\n",
       "       './data\\\\Healthcare_Nursing\\\\Job_00496.txt',\n",
       "       './data\\\\Engineering\\\\Job_00170.txt',\n",
       "       './data\\\\Engineering\\\\Job_00207.txt',\n",
       "       './data\\\\Healthcare_Nursing\\\\Job_00584.txt',\n",
       "       './data\\\\Accounting_Finance\\\\Job_00344.txt',\n",
       "       './data\\\\Healthcare_Nursing\\\\Job_00468.txt',\n",
       "       './data\\\\Sales\\\\Job_00682.txt',\n",
       "       './data\\\\Accounting_Finance\\\\Job_00252.txt',\n",
       "       './data\\\\Accounting_Finance\\\\Job_00297.txt',\n",
       "       './data\\\\Engineering\\\\Job_00108.txt',\n",
       "       './data\\\\Accounting_Finance\\\\Job_00358.txt',\n",
       "       './data\\\\Engineering\\\\Job_00069.txt',\n",
       "       './data\\\\Healthcare_Nursing\\\\Job_00577.txt',\n",
       "       './data\\\\Engineering\\\\Job_00212.txt',\n",
       "       './data\\\\Engineering\\\\Job_00149.txt',\n",
       "       './data\\\\Sales\\\\Job_00651.txt',\n",
       "       './data\\\\Accounting_Finance\\\\Job_00369.txt',\n",
       "       './data\\\\Healthcare_Nursing\\\\Job_00512.txt',\n",
       "       './data\\\\Accounting_Finance\\\\Job_00239.txt',\n",
       "       './data\\\\Engineering\\\\Job_00152.txt',\n",
       "       './data\\\\Sales\\\\Job_00711.txt',\n",
       "       './data\\\\Engineering\\\\Job_00119.txt',\n",
       "       './data\\\\Sales\\\\Job_00646.txt',\n",
       "       './data\\\\Healthcare_Nursing\\\\Job_00539.txt',\n",
       "       './data\\\\Accounting_Finance\\\\Job_00417.txt',\n",
       "       './data\\\\Healthcare_Nursing\\\\Job_00530.txt',\n",
       "       './data\\\\Engineering\\\\Job_00163.txt',\n",
       "       './data\\\\Sales\\\\Job_00631.txt',\n",
       "       './data\\\\Accounting_Finance\\\\Job_00385.txt',\n",
       "       './data\\\\Accounting_Finance\\\\Job_00286.txt',\n",
       "       './data\\\\Accounting_Finance\\\\Job_00262.txt',\n",
       "       './data\\\\Sales\\\\Job_00749.txt', './data\\\\Sales\\\\Job_00691.txt',\n",
       "       './data\\\\Accounting_Finance\\\\Job_00332.txt',\n",
       "       './data\\\\Healthcare_Nursing\\\\Job_00453.txt',\n",
       "       './data\\\\Sales\\\\Job_00699.txt', './data\\\\Sales\\\\Job_00733.txt',\n",
       "       './data\\\\Engineering\\\\Job_00047.txt',\n",
       "       './data\\\\Sales\\\\Job_00674.txt',\n",
       "       './data\\\\Accounting_Finance\\\\Job_00288.txt',\n",
       "       './data\\\\Engineering\\\\Job_00210.txt',\n",
       "       './data\\\\Accounting_Finance\\\\Job_00292.txt',\n",
       "       './data\\\\Sales\\\\Job_00675.txt',\n",
       "       './data\\\\Engineering\\\\Job_00072.txt',\n",
       "       './data\\\\Sales\\\\Job_00731.txt',\n",
       "       './data\\\\Engineering\\\\Job_00074.txt',\n",
       "       './data\\\\Sales\\\\Job_00721.txt',\n",
       "       './data\\\\Healthcare_Nursing\\\\Job_00469.txt',\n",
       "       './data\\\\Engineering\\\\Job_00018.txt',\n",
       "       './data\\\\Engineering\\\\Job_00201.txt',\n",
       "       './data\\\\Healthcare_Nursing\\\\Job_00486.txt',\n",
       "       './data\\\\Sales\\\\Job_00622.txt',\n",
       "       './data\\\\Accounting_Finance\\\\Job_00399.txt',\n",
       "       './data\\\\Accounting_Finance\\\\Job_00270.txt',\n",
       "       './data\\\\Sales\\\\Job_00748.txt', './data\\\\Sales\\\\Job_00669.txt',\n",
       "       './data\\\\Sales\\\\Job_00635.txt',\n",
       "       './data\\\\Engineering\\\\Job_00110.txt',\n",
       "       './data\\\\Healthcare_Nursing\\\\Job_00517.txt',\n",
       "       './data\\\\Healthcare_Nursing\\\\Job_00506.txt',\n",
       "       './data\\\\Sales\\\\Job_00659.txt',\n",
       "       './data\\\\Accounting_Finance\\\\Job_00395.txt',\n",
       "       './data\\\\Accounting_Finance\\\\Job_00356.txt',\n",
       "       './data\\\\Accounting_Finance\\\\Job_00386.txt',\n",
       "       './data\\\\Engineering\\\\Job_00146.txt',\n",
       "       './data\\\\Accounting_Finance\\\\Job_00291.txt',\n",
       "       './data\\\\Healthcare_Nursing\\\\Job_00504.txt',\n",
       "       './data\\\\Engineering\\\\Job_00114.txt',\n",
       "       './data\\\\Sales\\\\Job_00725.txt',\n",
       "       './data\\\\Healthcare_Nursing\\\\Job_00609.txt',\n",
       "       './data\\\\Engineering\\\\Job_00153.txt',\n",
       "       './data\\\\Healthcare_Nursing\\\\Job_00450.txt',\n",
       "       './data\\\\Healthcare_Nursing\\\\Job_00497.txt',\n",
       "       './data\\\\Engineering\\\\Job_00121.txt',\n",
       "       './data\\\\Healthcare_Nursing\\\\Job_00428.txt',\n",
       "       './data\\\\Healthcare_Nursing\\\\Job_00485.txt',\n",
       "       './data\\\\Accounting_Finance\\\\Job_00390.txt',\n",
       "       './data\\\\Accounting_Finance\\\\Job_00283.txt',\n",
       "       './data\\\\Healthcare_Nursing\\\\Job_00558.txt',\n",
       "       './data\\\\Sales\\\\Job_00693.txt',\n",
       "       './data\\\\Healthcare_Nursing\\\\Job_00524.txt',\n",
       "       './data\\\\Engineering\\\\Job_00171.txt',\n",
       "       './data\\\\Healthcare_Nursing\\\\Job_00466.txt',\n",
       "       './data\\\\Sales\\\\Job_00639.txt',\n",
       "       './data\\\\Engineering\\\\Job_00029.txt',\n",
       "       './data\\\\Healthcare_Nursing\\\\Job_00521.txt',\n",
       "       './data\\\\Engineering\\\\Job_00118.txt',\n",
       "       './data\\\\Accounting_Finance\\\\Job_00306.txt',\n",
       "       './data\\\\Engineering\\\\Job_00092.txt',\n",
       "       './data\\\\Healthcare_Nursing\\\\Job_00569.txt',\n",
       "       './data\\\\Engineering\\\\Job_00158.txt',\n",
       "       './data\\\\Healthcare_Nursing\\\\Job_00606.txt',\n",
       "       './data\\\\Accounting_Finance\\\\Job_00236.txt',\n",
       "       './data\\\\Sales\\\\Job_00624.txt',\n",
       "       './data\\\\Healthcare_Nursing\\\\Job_00438.txt',\n",
       "       './data\\\\Sales\\\\Job_00623.txt',\n",
       "       './data\\\\Healthcare_Nursing\\\\Job_00498.txt',\n",
       "       './data\\\\Sales\\\\Job_00683.txt',\n",
       "       './data\\\\Accounting_Finance\\\\Job_00237.txt',\n",
       "       './data\\\\Accounting_Finance\\\\Job_00373.txt',\n",
       "       './data\\\\Sales\\\\Job_00705.txt',\n",
       "       './data\\\\Healthcare_Nursing\\\\Job_00457.txt',\n",
       "       './data\\\\Accounting_Finance\\\\Job_00367.txt',\n",
       "       './data\\\\Healthcare_Nursing\\\\Job_00522.txt',\n",
       "       './data\\\\Engineering\\\\Job_00188.txt',\n",
       "       './data\\\\Sales\\\\Job_00694.txt',\n",
       "       './data\\\\Accounting_Finance\\\\Job_00254.txt',\n",
       "       './data\\\\Sales\\\\Job_00701.txt',\n",
       "       './data\\\\Healthcare_Nursing\\\\Job_00467.txt',\n",
       "       './data\\\\Engineering\\\\Job_00086.txt',\n",
       "       './data\\\\Engineering\\\\Job_00094.txt',\n",
       "       './data\\\\Healthcare_Nursing\\\\Job_00541.txt',\n",
       "       './data\\\\Engineering\\\\Job_00080.txt',\n",
       "       './data\\\\Healthcare_Nursing\\\\Job_00427.txt',\n",
       "       './data\\\\Sales\\\\Job_00741.txt',\n",
       "       './data\\\\Engineering\\\\Job_00091.txt',\n",
       "       './data\\\\Engineering\\\\Job_00230.txt',\n",
       "       './data\\\\Engineering\\\\Job_00030.txt',\n",
       "       './data\\\\Sales\\\\Job_00702.txt',\n",
       "       './data\\\\Engineering\\\\Job_00130.txt',\n",
       "       './data\\\\Healthcare_Nursing\\\\Job_00440.txt',\n",
       "       './data\\\\Engineering\\\\Job_00182.txt',\n",
       "       './data\\\\Accounting_Finance\\\\Job_00352.txt',\n",
       "       './data\\\\Accounting_Finance\\\\Job_00313.txt',\n",
       "       './data\\\\Sales\\\\Job_00760.txt',\n",
       "       './data\\\\Accounting_Finance\\\\Job_00245.txt',\n",
       "       './data\\\\Healthcare_Nursing\\\\Job_00492.txt',\n",
       "       './data\\\\Healthcare_Nursing\\\\Job_00456.txt',\n",
       "       './data\\\\Sales\\\\Job_00751.txt', './data\\\\Sales\\\\Job_00743.txt',\n",
       "       './data\\\\Accounting_Finance\\\\Job_00392.txt',\n",
       "       './data\\\\Sales\\\\Job_00756.txt',\n",
       "       './data\\\\Engineering\\\\Job_00048.txt',\n",
       "       './data\\\\Engineering\\\\Job_00189.txt',\n",
       "       './data\\\\Healthcare_Nursing\\\\Job_00520.txt',\n",
       "       './data\\\\Healthcare_Nursing\\\\Job_00546.txt',\n",
       "       './data\\\\Healthcare_Nursing\\\\Job_00441.txt',\n",
       "       './data\\\\Sales\\\\Job_00754.txt',\n",
       "       './data\\\\Healthcare_Nursing\\\\Job_00579.txt',\n",
       "       './data\\\\Engineering\\\\Job_00005.txt',\n",
       "       './data\\\\Engineering\\\\Job_00001.txt',\n",
       "       './data\\\\Accounting_Finance\\\\Job_00348.txt',\n",
       "       './data\\\\Healthcare_Nursing\\\\Job_00604.txt',\n",
       "       './data\\\\Sales\\\\Job_00637.txt',\n",
       "       './data\\\\Accounting_Finance\\\\Job_00396.txt',\n",
       "       './data\\\\Accounting_Finance\\\\Job_00338.txt',\n",
       "       './data\\\\Accounting_Finance\\\\Job_00248.txt',\n",
       "       './data\\\\Accounting_Finance\\\\Job_00295.txt',\n",
       "       './data\\\\Healthcare_Nursing\\\\Job_00471.txt',\n",
       "       './data\\\\Engineering\\\\Job_00194.txt',\n",
       "       './data\\\\Sales\\\\Job_00717.txt',\n",
       "       './data\\\\Accounting_Finance\\\\Job_00337.txt',\n",
       "       './data\\\\Healthcare_Nursing\\\\Job_00550.txt',\n",
       "       './data\\\\Engineering\\\\Job_00139.txt',\n",
       "       './data\\\\Healthcare_Nursing\\\\Job_00481.txt',\n",
       "       './data\\\\Healthcare_Nursing\\\\Job_00499.txt',\n",
       "       './data\\\\Sales\\\\Job_00677.txt',\n",
       "       './data\\\\Engineering\\\\Job_00215.txt',\n",
       "       './data\\\\Healthcare_Nursing\\\\Job_00578.txt',\n",
       "       './data\\\\Accounting_Finance\\\\Job_00325.txt',\n",
       "       './data\\\\Healthcare_Nursing\\\\Job_00434.txt',\n",
       "       './data\\\\Accounting_Finance\\\\Job_00315.txt',\n",
       "       './data\\\\Sales\\\\Job_00656.txt',\n",
       "       './data\\\\Healthcare_Nursing\\\\Job_00602.txt',\n",
       "       './data\\\\Engineering\\\\Job_00224.txt',\n",
       "       './data\\\\Healthcare_Nursing\\\\Job_00567.txt',\n",
       "       './data\\\\Healthcare_Nursing\\\\Job_00565.txt',\n",
       "       './data\\\\Sales\\\\Job_00771.txt',\n",
       "       './data\\\\Engineering\\\\Job_00132.txt',\n",
       "       './data\\\\Engineering\\\\Job_00167.txt',\n",
       "       './data\\\\Accounting_Finance\\\\Job_00301.txt',\n",
       "       './data\\\\Healthcare_Nursing\\\\Job_00515.txt',\n",
       "       './data\\\\Healthcare_Nursing\\\\Job_00510.txt',\n",
       "       './data\\\\Engineering\\\\Job_00150.txt',\n",
       "       './data\\\\Engineering\\\\Job_00031.txt',\n",
       "       './data\\\\Sales\\\\Job_00722.txt',\n",
       "       './data\\\\Accounting_Finance\\\\Job_00378.txt',\n",
       "       './data\\\\Engineering\\\\Job_00099.txt',\n",
       "       './data\\\\Accounting_Finance\\\\Job_00261.txt',\n",
       "       './data\\\\Accounting_Finance\\\\Job_00346.txt',\n",
       "       './data\\\\Healthcare_Nursing\\\\Job_00509.txt',\n",
       "       './data\\\\Sales\\\\Job_00626.txt', './data\\\\Sales\\\\Job_00752.txt',\n",
       "       './data\\\\Accounting_Finance\\\\Job_00408.txt',\n",
       "       './data\\\\Accounting_Finance\\\\Job_00400.txt',\n",
       "       './data\\\\Engineering\\\\Job_00157.txt',\n",
       "       './data\\\\Engineering\\\\Job_00186.txt',\n",
       "       './data\\\\Healthcare_Nursing\\\\Job_00589.txt',\n",
       "       './data\\\\Sales\\\\Job_00753.txt', './data\\\\Sales\\\\Job_00663.txt',\n",
       "       './data\\\\Sales\\\\Job_00665.txt',\n",
       "       './data\\\\Accounting_Finance\\\\Job_00421.txt',\n",
       "       './data\\\\Accounting_Finance\\\\Job_00368.txt',\n",
       "       './data\\\\Healthcare_Nursing\\\\Job_00447.txt',\n",
       "       './data\\\\Sales\\\\Job_00653.txt',\n",
       "       './data\\\\Engineering\\\\Job_00064.txt',\n",
       "       './data\\\\Sales\\\\Job_00776.txt',\n",
       "       './data\\\\Engineering\\\\Job_00100.txt',\n",
       "       './data\\\\Sales\\\\Job_00730.txt', './data\\\\Sales\\\\Job_00658.txt',\n",
       "       './data\\\\Engineering\\\\Job_00042.txt',\n",
       "       './data\\\\Accounting_Finance\\\\Job_00265.txt',\n",
       "       './data\\\\Accounting_Finance\\\\Job_00320.txt',\n",
       "       './data\\\\Accounting_Finance\\\\Job_00276.txt',\n",
       "       './data\\\\Engineering\\\\Job_00151.txt',\n",
       "       './data\\\\Accounting_Finance\\\\Job_00293.txt',\n",
       "       './data\\\\Sales\\\\Job_00742.txt',\n",
       "       './data\\\\Engineering\\\\Job_00009.txt',\n",
       "       './data\\\\Healthcare_Nursing\\\\Job_00430.txt',\n",
       "       './data\\\\Healthcare_Nursing\\\\Job_00581.txt',\n",
       "       './data\\\\Engineering\\\\Job_00204.txt',\n",
       "       './data\\\\Engineering\\\\Job_00107.txt',\n",
       "       './data\\\\Accounting_Finance\\\\Job_00305.txt',\n",
       "       './data\\\\Engineering\\\\Job_00203.txt',\n",
       "       './data\\\\Healthcare_Nursing\\\\Job_00548.txt',\n",
       "       './data\\\\Healthcare_Nursing\\\\Job_00542.txt',\n",
       "       './data\\\\Sales\\\\Job_00664.txt', './data\\\\Sales\\\\Job_00648.txt',\n",
       "       './data\\\\Sales\\\\Job_00654.txt',\n",
       "       './data\\\\Engineering\\\\Job_00027.txt',\n",
       "       './data\\\\Healthcare_Nursing\\\\Job_00540.txt',\n",
       "       './data\\\\Sales\\\\Job_00643.txt',\n",
       "       './data\\\\Engineering\\\\Job_00231.txt',\n",
       "       './data\\\\Accounting_Finance\\\\Job_00370.txt',\n",
       "       './data\\\\Engineering\\\\Job_00022.txt',\n",
       "       './data\\\\Sales\\\\Job_00655.txt', './data\\\\Sales\\\\Job_00652.txt',\n",
       "       './data\\\\Sales\\\\Job_00673.txt', './data\\\\Sales\\\\Job_00712.txt',\n",
       "       './data\\\\Engineering\\\\Job_00044.txt',\n",
       "       './data\\\\Accounting_Finance\\\\Job_00299.txt',\n",
       "       './data\\\\Accounting_Finance\\\\Job_00256.txt',\n",
       "       './data\\\\Engineering\\\\Job_00191.txt',\n",
       "       './data\\\\Engineering\\\\Job_00026.txt',\n",
       "       './data\\\\Accounting_Finance\\\\Job_00361.txt',\n",
       "       './data\\\\Engineering\\\\Job_00159.txt',\n",
       "       './data\\\\Accounting_Finance\\\\Job_00343.txt',\n",
       "       './data\\\\Accounting_Finance\\\\Job_00398.txt',\n",
       "       './data\\\\Engineering\\\\Job_00017.txt',\n",
       "       './data\\\\Healthcare_Nursing\\\\Job_00439.txt',\n",
       "       './data\\\\Healthcare_Nursing\\\\Job_00553.txt',\n",
       "       './data\\\\Engineering\\\\Job_00084.txt',\n",
       "       './data\\\\Sales\\\\Job_00744.txt',\n",
       "       './data\\\\Healthcare_Nursing\\\\Job_00592.txt',\n",
       "       './data\\\\Healthcare_Nursing\\\\Job_00620.txt',\n",
       "       './data\\\\Healthcare_Nursing\\\\Job_00526.txt',\n",
       "       './data\\\\Engineering\\\\Job_00097.txt',\n",
       "       './data\\\\Healthcare_Nursing\\\\Job_00470.txt',\n",
       "       './data\\\\Engineering\\\\Job_00136.txt',\n",
       "       './data\\\\Accounting_Finance\\\\Job_00353.txt',\n",
       "       './data\\\\Healthcare_Nursing\\\\Job_00508.txt',\n",
       "       './data\\\\Engineering\\\\Job_00038.txt',\n",
       "       './data\\\\Healthcare_Nursing\\\\Job_00596.txt',\n",
       "       './data\\\\Healthcare_Nursing\\\\Job_00446.txt',\n",
       "       './data\\\\Accounting_Finance\\\\Job_00349.txt',\n",
       "       './data\\\\Healthcare_Nursing\\\\Job_00465.txt',\n",
       "       './data\\\\Accounting_Finance\\\\Job_00257.txt',\n",
       "       './data\\\\Accounting_Finance\\\\Job_00342.txt',\n",
       "       './data\\\\Accounting_Finance\\\\Job_00381.txt',\n",
       "       './data\\\\Accounting_Finance\\\\Job_00384.txt',\n",
       "       './data\\\\Healthcare_Nursing\\\\Job_00529.txt',\n",
       "       './data\\\\Healthcare_Nursing\\\\Job_00462.txt',\n",
       "       './data\\\\Healthcare_Nursing\\\\Job_00599.txt',\n",
       "       './data\\\\Accounting_Finance\\\\Job_00371.txt',\n",
       "       './data\\\\Engineering\\\\Job_00070.txt',\n",
       "       './data\\\\Engineering\\\\Job_00133.txt',\n",
       "       './data\\\\Sales\\\\Job_00697.txt',\n",
       "       './data\\\\Engineering\\\\Job_00058.txt',\n",
       "       './data\\\\Healthcare_Nursing\\\\Job_00451.txt',\n",
       "       './data\\\\Engineering\\\\Job_00220.txt',\n",
       "       './data\\\\Healthcare_Nursing\\\\Job_00608.txt',\n",
       "       './data\\\\Accounting_Finance\\\\Job_00251.txt',\n",
       "       './data\\\\Engineering\\\\Job_00138.txt',\n",
       "       './data\\\\Engineering\\\\Job_00106.txt',\n",
       "       './data\\\\Engineering\\\\Job_00079.txt',\n",
       "       './data\\\\Engineering\\\\Job_00036.txt',\n",
       "       './data\\\\Accounting_Finance\\\\Job_00326.txt',\n",
       "       './data\\\\Healthcare_Nursing\\\\Job_00516.txt',\n",
       "       './data\\\\Sales\\\\Job_00638.txt',\n",
       "       './data\\\\Engineering\\\\Job_00090.txt',\n",
       "       './data\\\\Engineering\\\\Job_00096.txt',\n",
       "       './data\\\\Healthcare_Nursing\\\\Job_00590.txt',\n",
       "       './data\\\\Sales\\\\Job_00723.txt',\n",
       "       './data\\\\Healthcare_Nursing\\\\Job_00445.txt',\n",
       "       './data\\\\Accounting_Finance\\\\Job_00416.txt',\n",
       "       './data\\\\Engineering\\\\Job_00181.txt',\n",
       "       './data\\\\Sales\\\\Job_00679.txt', './data\\\\Sales\\\\Job_00766.txt',\n",
       "       './data\\\\Engineering\\\\Job_00085.txt',\n",
       "       './data\\\\Sales\\\\Job_00726.txt',\n",
       "       './data\\\\Accounting_Finance\\\\Job_00414.txt',\n",
       "       './data\\\\Accounting_Finance\\\\Job_00264.txt',\n",
       "       './data\\\\Accounting_Finance\\\\Job_00312.txt',\n",
       "       './data\\\\Engineering\\\\Job_00117.txt',\n",
       "       './data\\\\Accounting_Finance\\\\Job_00243.txt',\n",
       "       './data\\\\Accounting_Finance\\\\Job_00275.txt',\n",
       "       './data\\\\Accounting_Finance\\\\Job_00318.txt',\n",
       "       './data\\\\Accounting_Finance\\\\Job_00268.txt',\n",
       "       './data\\\\Accounting_Finance\\\\Job_00290.txt',\n",
       "       './data\\\\Accounting_Finance\\\\Job_00273.txt',\n",
       "       './data\\\\Engineering\\\\Job_00221.txt',\n",
       "       './data\\\\Healthcare_Nursing\\\\Job_00563.txt',\n",
       "       './data\\\\Engineering\\\\Job_00019.txt',\n",
       "       './data\\\\Accounting_Finance\\\\Job_00380.txt',\n",
       "       './data\\\\Healthcare_Nursing\\\\Job_00595.txt',\n",
       "       './data\\\\Accounting_Finance\\\\Job_00355.txt',\n",
       "       './data\\\\Healthcare_Nursing\\\\Job_00575.txt',\n",
       "       './data\\\\Accounting_Finance\\\\Job_00330.txt',\n",
       "       './data\\\\Engineering\\\\Job_00187.txt',\n",
       "       './data\\\\Accounting_Finance\\\\Job_00362.txt',\n",
       "       './data\\\\Accounting_Finance\\\\Job_00255.txt',\n",
       "       './data\\\\Sales\\\\Job_00688.txt',\n",
       "       './data\\\\Healthcare_Nursing\\\\Job_00556.txt',\n",
       "       './data\\\\Engineering\\\\Job_00180.txt',\n",
       "       './data\\\\Healthcare_Nursing\\\\Job_00513.txt',\n",
       "       './data\\\\Engineering\\\\Job_00193.txt',\n",
       "       './data\\\\Engineering\\\\Job_00011.txt',\n",
       "       './data\\\\Engineering\\\\Job_00178.txt',\n",
       "       './data\\\\Healthcare_Nursing\\\\Job_00555.txt',\n",
       "       './data\\\\Healthcare_Nursing\\\\Job_00611.txt',\n",
       "       './data\\\\Engineering\\\\Job_00197.txt',\n",
       "       './data\\\\Engineering\\\\Job_00102.txt',\n",
       "       './data\\\\Engineering\\\\Job_00066.txt',\n",
       "       './data\\\\Healthcare_Nursing\\\\Job_00607.txt',\n",
       "       './data\\\\Engineering\\\\Job_00007.txt',\n",
       "       './data\\\\Accounting_Finance\\\\Job_00327.txt',\n",
       "       './data\\\\Sales\\\\Job_00747.txt', './data\\\\Sales\\\\Job_00732.txt',\n",
       "       './data\\\\Accounting_Finance\\\\Job_00401.txt',\n",
       "       './data\\\\Healthcare_Nursing\\\\Job_00582.txt',\n",
       "       './data\\\\Engineering\\\\Job_00115.txt',\n",
       "       './data\\\\Healthcare_Nursing\\\\Job_00561.txt',\n",
       "       './data\\\\Engineering\\\\Job_00183.txt',\n",
       "       './data\\\\Engineering\\\\Job_00037.txt',\n",
       "       './data\\\\Sales\\\\Job_00661.txt',\n",
       "       './data\\\\Accounting_Finance\\\\Job_00375.txt',\n",
       "       './data\\\\Accounting_Finance\\\\Job_00412.txt',\n",
       "       './data\\\\Accounting_Finance\\\\Job_00363.txt',\n",
       "       './data\\\\Sales\\\\Job_00738.txt',\n",
       "       './data\\\\Accounting_Finance\\\\Job_00279.txt',\n",
       "       './data\\\\Engineering\\\\Job_00134.txt',\n",
       "       './data\\\\Engineering\\\\Job_00013.txt',\n",
       "       './data\\\\Accounting_Finance\\\\Job_00316.txt',\n",
       "       './data\\\\Sales\\\\Job_00634.txt',\n",
       "       './data\\\\Healthcare_Nursing\\\\Job_00566.txt',\n",
       "       './data\\\\Healthcare_Nursing\\\\Job_00612.txt',\n",
       "       './data\\\\Engineering\\\\Job_00208.txt',\n",
       "       './data\\\\Accounting_Finance\\\\Job_00323.txt',\n",
       "       './data\\\\Accounting_Finance\\\\Job_00314.txt',\n",
       "       './data\\\\Healthcare_Nursing\\\\Job_00431.txt',\n",
       "       './data\\\\Accounting_Finance\\\\Job_00351.txt',\n",
       "       './data\\\\Engineering\\\\Job_00101.txt',\n",
       "       './data\\\\Accounting_Finance\\\\Job_00289.txt',\n",
       "       './data\\\\Engineering\\\\Job_00131.txt',\n",
       "       './data\\\\Engineering\\\\Job_00067.txt',\n",
       "       './data\\\\Sales\\\\Job_00736.txt',\n",
       "       './data\\\\Healthcare_Nursing\\\\Job_00443.txt',\n",
       "       './data\\\\Accounting_Finance\\\\Job_00274.txt',\n",
       "       './data\\\\Healthcare_Nursing\\\\Job_00618.txt',\n",
       "       './data\\\\Engineering\\\\Job_00198.txt',\n",
       "       './data\\\\Engineering\\\\Job_00145.txt',\n",
       "       './data\\\\Engineering\\\\Job_00083.txt',\n",
       "       './data\\\\Healthcare_Nursing\\\\Job_00489.txt',\n",
       "       './data\\\\Healthcare_Nursing\\\\Job_00551.txt',\n",
       "       './data\\\\Accounting_Finance\\\\Job_00285.txt',\n",
       "       './data\\\\Sales\\\\Job_00727.txt',\n",
       "       './data\\\\Accounting_Finance\\\\Job_00360.txt',\n",
       "       './data\\\\Accounting_Finance\\\\Job_00260.txt',\n",
       "       './data\\\\Accounting_Finance\\\\Job_00415.txt',\n",
       "       './data\\\\Healthcare_Nursing\\\\Job_00460.txt',\n",
       "       './data\\\\Healthcare_Nursing\\\\Job_00511.txt',\n",
       "       './data\\\\Sales\\\\Job_00676.txt',\n",
       "       './data\\\\Accounting_Finance\\\\Job_00383.txt',\n",
       "       './data\\\\Engineering\\\\Job_00054.txt',\n",
       "       './data\\\\Sales\\\\Job_00715.txt',\n",
       "       './data\\\\Healthcare_Nursing\\\\Job_00544.txt',\n",
       "       './data\\\\Healthcare_Nursing\\\\Job_00545.txt',\n",
       "       './data\\\\Sales\\\\Job_00640.txt', './data\\\\Sales\\\\Job_00698.txt',\n",
       "       './data\\\\Engineering\\\\Job_00075.txt',\n",
       "       './data\\\\Engineering\\\\Job_00098.txt',\n",
       "       './data\\\\Healthcare_Nursing\\\\Job_00424.txt',\n",
       "       './data\\\\Accounting_Finance\\\\Job_00379.txt',\n",
       "       './data\\\\Sales\\\\Job_00660.txt',\n",
       "       './data\\\\Accounting_Finance\\\\Job_00409.txt',\n",
       "       './data\\\\Accounting_Finance\\\\Job_00331.txt',\n",
       "       './data\\\\Healthcare_Nursing\\\\Job_00449.txt',\n",
       "       './data\\\\Healthcare_Nursing\\\\Job_00432.txt',\n",
       "       './data\\\\Sales\\\\Job_00710.txt',\n",
       "       './data\\\\Accounting_Finance\\\\Job_00347.txt',\n",
       "       './data\\\\Accounting_Finance\\\\Job_00304.txt',\n",
       "       './data\\\\Healthcare_Nursing\\\\Job_00538.txt',\n",
       "       './data\\\\Sales\\\\Job_00678.txt', './data\\\\Sales\\\\Job_00762.txt',\n",
       "       './data\\\\Accounting_Finance\\\\Job_00406.txt',\n",
       "       './data\\\\Accounting_Finance\\\\Job_00319.txt',\n",
       "       './data\\\\Healthcare_Nursing\\\\Job_00552.txt',\n",
       "       './data\\\\Healthcare_Nursing\\\\Job_00487.txt',\n",
       "       './data\\\\Sales\\\\Job_00706.txt',\n",
       "       './data\\\\Engineering\\\\Job_00124.txt',\n",
       "       './data\\\\Engineering\\\\Job_00206.txt',\n",
       "       './data\\\\Healthcare_Nursing\\\\Job_00601.txt',\n",
       "       './data\\\\Healthcare_Nursing\\\\Job_00473.txt',\n",
       "       './data\\\\Accounting_Finance\\\\Job_00302.txt',\n",
       "       './data\\\\Healthcare_Nursing\\\\Job_00600.txt',\n",
       "       './data\\\\Sales\\\\Job_00755.txt',\n",
       "       './data\\\\Engineering\\\\Job_00087.txt',\n",
       "       './data\\\\Sales\\\\Job_00724.txt',\n",
       "       './data\\\\Accounting_Finance\\\\Job_00241.txt',\n",
       "       './data\\\\Engineering\\\\Job_00169.txt',\n",
       "       './data\\\\Sales\\\\Job_00708.txt', './data\\\\Sales\\\\Job_00764.txt',\n",
       "       './data\\\\Engineering\\\\Job_00002.txt',\n",
       "       './data\\\\Sales\\\\Job_00630.txt',\n",
       "       './data\\\\Healthcare_Nursing\\\\Job_00560.txt',\n",
       "       './data\\\\Sales\\\\Job_00685.txt'], dtype='<U39')"
      ]
     },
     "execution_count": 3,
     "metadata": {},
     "output_type": "execute_result"
    }
   ],
   "source": [
    "job_data.filenames"
   ]
  },
  {
   "cell_type": "code",
   "execution_count": 4,
   "metadata": {},
   "outputs": [
    {
     "data": {
      "text/plain": [
       "array([0, 0, 2, 0, 2, 1, 2, 0, 3, 3, 0, 0, 1, 3, 1, 3, 3, 1, 3, 2, 2, 2,\n",
       "       3, 3, 0, 2, 2, 2, 0, 2, 3, 1, 2, 0, 1, 3, 3, 1, 1, 0, 2, 2, 2, 2,\n",
       "       0, 0, 2, 1, 3, 1, 1, 2, 2, 3, 0, 0, 1, 0, 2, 2, 3, 3, 3, 0, 3, 0,\n",
       "       1, 2, 3, 1, 3, 2, 3, 1, 3, 2, 1, 3, 2, 1, 3, 2, 2, 1, 0, 1, 1, 1,\n",
       "       3, 0, 3, 1, 3, 2, 2, 0, 2, 3, 2, 1, 0, 1, 1, 2, 0, 3, 0, 1, 3, 2,\n",
       "       1, 2, 0, 3, 1, 1, 1, 1, 1, 1, 1, 1, 3, 1, 1, 1, 1, 1, 3, 1, 1, 3,\n",
       "       2, 0, 0, 1, 3, 2, 0, 1, 0, 3, 1, 2, 1, 0, 0, 0, 3, 0, 1, 2, 3, 1,\n",
       "       1, 1, 2, 1, 0, 1, 0, 1, 0, 1, 1, 2, 0, 2, 2, 0, 2, 3, 2, 2, 0, 2,\n",
       "       1, 0, 1, 1, 1, 3, 1, 3, 1, 0, 3, 1, 0, 2, 0, 0, 2, 1, 1, 0, 1, 3,\n",
       "       0, 1, 1, 3, 0, 1, 0, 2, 3, 0, 2, 0, 1, 0, 1, 3, 1, 0, 1, 1, 0, 1,\n",
       "       0, 1, 2, 1, 3, 1, 2, 3, 1, 1, 2, 0, 0, 1, 2, 0, 3, 2, 3, 2, 2, 3,\n",
       "       0, 1, 1, 1, 1, 1, 1, 0, 3, 1, 1, 0, 0, 2, 1, 2, 2, 2, 2, 1, 3, 1,\n",
       "       2, 1, 2, 3, 2, 3, 0, 1, 3, 0, 2, 1, 0, 2, 1, 2, 0, 2, 1, 1, 1, 2,\n",
       "       2, 1, 2, 0, 2, 2, 1, 2, 0, 1, 0, 0, 3, 2, 1, 3, 0, 3, 1, 2, 0, 1,\n",
       "       0, 0, 0, 0, 2, 2, 0, 0, 2, 1, 2, 0, 0, 1, 2, 3, 1, 3, 2, 0, 2, 2,\n",
       "       1, 3, 1, 0, 1, 2, 3, 1, 0, 0, 1, 1, 0, 2, 1, 3, 2, 3, 3, 1, 3, 1,\n",
       "       2, 1, 1, 2, 2, 3, 3, 2, 2, 1, 1, 2, 0, 2, 3, 0, 0, 1, 0, 1, 2, 1,\n",
       "       1, 3, 0, 2, 0, 1, 3, 1, 3, 2, 0, 2, 1, 3, 0, 0, 0, 3, 3, 0, 2, 3,\n",
       "       3, 1, 3, 0, 1, 0, 3, 1, 3, 1, 3, 2, 1, 1, 2, 3, 0, 0, 3, 3, 3, 1,\n",
       "       2, 2, 3, 0, 0, 0, 1, 0, 2, 1, 3, 2, 1, 2, 2, 1, 2, 2, 0, 0, 2, 3,\n",
       "       2, 1, 2, 3, 1, 2, 1, 0, 1, 2, 1, 2, 0, 3, 2, 3, 2, 3, 0, 0, 3, 2,\n",
       "       0, 2, 1, 3, 0, 3, 2, 1, 1, 2, 1, 2, 3, 1, 1, 1, 3, 1, 2, 1, 0, 0,\n",
       "       3, 0, 2, 2, 3, 3, 0, 3, 1, 1, 2, 2, 2, 3, 2, 1, 1, 0, 2, 3, 0, 0,\n",
       "       0, 0, 2, 1, 3, 0, 2, 1, 2, 2, 3, 1, 2, 0, 2, 0, 3, 2, 1, 2, 2, 3,\n",
       "       1, 1, 0, 2, 2, 1, 1, 3, 0, 1, 0, 0, 2, 3, 3, 0, 0, 1, 1, 2, 3, 3,\n",
       "       3, 0, 0, 2, 3, 1, 3, 1, 3, 3, 1, 0, 0, 0, 1, 0, 3, 1, 2, 2, 1, 1,\n",
       "       0, 1, 2, 2, 3, 3, 3, 1, 2, 3, 1, 0, 1, 3, 3, 3, 3, 1, 0, 0, 1, 1,\n",
       "       0, 1, 0, 0, 1, 2, 2, 1, 3, 2, 2, 2, 1, 2, 1, 0, 2, 1, 2, 2, 0, 2,\n",
       "       0, 0, 0, 0, 2, 2, 2, 0, 1, 1, 3, 1, 2, 1, 2, 0, 1, 1, 1, 1, 0, 2,\n",
       "       3, 1, 1, 2, 3, 2, 0, 1, 3, 3, 1, 3, 0, 0, 0, 1, 0, 0, 0, 0, 0, 0,\n",
       "       1, 2, 1, 0, 2, 0, 2, 0, 1, 0, 0, 3, 2, 1, 2, 1, 1, 1, 2, 2, 1, 1,\n",
       "       1, 2, 1, 0, 3, 3, 0, 2, 1, 2, 1, 1, 3, 0, 0, 0, 3, 0, 1, 1, 0, 3,\n",
       "       2, 2, 1, 0, 0, 2, 0, 1, 0, 1, 1, 3, 2, 0, 2, 1, 1, 1, 2, 2, 0, 3,\n",
       "       0, 0, 0, 2, 2, 3, 0, 1, 3, 2, 2, 3, 3, 1, 1, 2, 0, 3, 0, 0, 2, 2,\n",
       "       3, 0, 0, 2, 3, 3, 0, 0, 2, 2, 3, 1, 1, 2, 2, 0, 2, 3, 1, 3, 0, 1,\n",
       "       3, 3, 1, 3, 2, 3])"
      ]
     },
     "execution_count": 4,
     "metadata": {},
     "output_type": "execute_result"
    }
   ],
   "source": [
    "job_data.target"
   ]
  },
  {
   "cell_type": "code",
   "execution_count": 5,
   "metadata": {},
   "outputs": [
    {
     "data": {
      "text/plain": [
       "['Accounting_Finance', 'Engineering', 'Healthcare_Nursing', 'Sales']"
      ]
     },
     "execution_count": 5,
     "metadata": {},
     "output_type": "execute_result"
    }
   ],
   "source": [
    "job_data['target_names']"
   ]
  },
  {
   "cell_type": "code",
   "execution_count": 6,
   "metadata": {
    "scrolled": true
   },
   "outputs": [
    {
     "data": {
      "text/plain": [
       "776"
      ]
     },
     "execution_count": 6,
     "metadata": {},
     "output_type": "execute_result"
    }
   ],
   "source": [
    "len(job_data['data'])"
   ]
  },
  {
   "cell_type": "code",
   "execution_count": 7,
   "metadata": {},
   "outputs": [
    {
     "name": "stdout",
     "output_type": "stream",
     "text": [
      "Stored 'job_data' (Bunch)\n"
     ]
    }
   ],
   "source": [
    "%store job_data"
   ]
  },
  {
   "cell_type": "code",
   "execution_count": 8,
   "metadata": {},
   "outputs": [
    {
     "data": {
      "text/plain": [
       "b'Title: Investments & Treasury Controller\\nWebindex: 71851935\\nCompany: August Clarke\\nDescription: Our client, based in Eastleigh, is looking for an Investments and Treasury Controller to join their team. Duties to include: Take responsibility for transactional management, analysis and oversight of the Company\\xe2\\x80\\x99s investment portfolio, including compliance with relevant sections of the relevant policies Ensure that working capital and other liquid resources and cashflow are managed efficiently Deliver consistently against relevant KPIs and KRIs, analysing any shortfalls and putting appropriate action plans in place to remediate process issues Manage day to day relationships with the Company\\xe2\\x80\\x99s outsourced Investment Managers and Custodians ensuring that there is mutual understanding of each others\\xe2\\x80\\x99 operations, systems and developments so that business is transacted efficiently and effectively Own endtoend investment processes, ensuring that processes, procedures, risks and controls are documented, effective and efficient. Regularly review and test processes and controls in accordance with Finance control and risk framework. Skills and Experience: The ability to build relationships with stakeholders at all levels both internal and external, able to challenge assumptions positively and bring people on the journey Strong written communication skills and must be fluent, articulate and confident in spoken communication Understanding of investment principles and significant experience of their practical application coupled with excellent analytical skills. A strong risks and control awareness is also required Strong organisational and planning skills coupled with ability to drive appropriate solutions. Proactive, highly motivated and change orientated, able to identify obstacles and clear them effectively IT literate, including experience of accounting systems and data warehouse architectures as well as desktop systems. Fluent with using Microsoft Excel, Word and PowerPoint Ability to understand, evaluate and interpret diverse financial data You will have experience of in a treasury/investment role, and must be ACA/ACCA/CIMA qualified or equivalent. August Clarke Limited is acting as a recruitment agency in relation to this role. We do not discriminate on the grounds of age, race, gender, disability, creed or sexual orientation and comply with all relevant UK legislation. If you do not hear back from us within **** working days please assume you have not been successful. This job was originally posted as www.totaljobs.com/JobSeeking/InvestmentsTreasuryController_job****'"
      ]
     },
     "execution_count": 8,
     "metadata": {},
     "output_type": "execute_result"
    }
   ],
   "source": [
    "emp = 10\n",
    "job_data['data'][10]"
   ]
  },
  {
   "cell_type": "code",
   "execution_count": 9,
   "metadata": {
    "scrolled": true
   },
   "outputs": [
    {
     "name": "stdout",
     "output_type": "stream",
     "text": [
      "[\"Description: Our client, based in Eastleigh, is looking for an Investments and Treasury Controller to join their team. Duties to include: Take responsibility for transactional management, analysis and oversight of the Company\\\\xe2\\\\x80\\\\x99s investment portfolio, including compliance with relevant sections of the relevant policies Ensure that working capital and other liquid resources and cashflow are managed efficiently Deliver consistently against relevant KPIs and KRIs, analysing any shortfalls and putting appropriate action plans in place to remediate process issues Manage day to day relationships with the Company\\\\xe2\\\\x80\\\\x99s outsourced Investment Managers and Custodians ensuring that there is mutual understanding of each others\\\\xe2\\\\x80\\\\x99 operations, systems and developments so that business is transacted efficiently and effectively Own endtoend investment processes, ensuring that processes, procedures, risks and controls are documented, effective and efficient. Regularly review and test processes and controls in accordance with Finance control and risk framework. Skills and Experience: The ability to build relationships with stakeholders at all levels both internal and external, able to challenge assumptions positively and bring people on the journey Strong written communication skills and must be fluent, articulate and confident in spoken communication Understanding of investment principles and significant experience of their practical application coupled with excellent analytical skills. A strong risks and control awareness is also required Strong organisational and planning skills coupled with ability to drive appropriate solutions. Proactive, highly motivated and change orientated, able to identify obstacles and clear them effectively IT literate, including experience of accounting systems and data warehouse architectures as well as desktop systems. Fluent with using Microsoft Excel, Word and PowerPoint Ability to understand, evaluate and interpret diverse financial data You will have experience of in a treasury/investment role, and must be ACA/ACCA/CIMA qualified or equivalent. August Clarke Limited is acting as a recruitment agency in relation to this role. We do not discriminate on the grounds of age, race, gender, disability, creed or sexual orientation and comply with all relevant UK legislation. If you do not hear back from us within **** working days please assume you have not been successful. This job was originally posted as www.totaljobs.com/JobSeeking/InvestmentsTreasuryController_job****'\"]\n"
     ]
    }
   ],
   "source": [
    "test_extract = re.findall('Description.*', str(job_data['data'][10]))\n",
    "print(test_extract)"
   ]
  },
  {
   "cell_type": "code",
   "execution_count": 10,
   "metadata": {},
   "outputs": [
    {
     "name": "stdout",
     "output_type": "stream",
     "text": [
      "Our client, based in Eastleigh, is looking for an Investments and Treasury Controller to join their team. Duties to include: Take responsibility for transactional management, analysis and oversight of the Company\\xe2\\x80\\x99s investment portfolio, including compliance with relevant sections of the relevant policies Ensure that working capital and other liquid resources and cashflow are managed efficiently Deliver consistently against relevant KPIs and KRIs, analysing any shortfalls and putting appropriate action plans in place to remediate process issues Manage day to day relationships with the Company\\xe2\\x80\\x99s outsourced Investment Managers and Custodians ensuring that there is mutual understanding of each others\\xe2\\x80\\x99 operations, systems and developments so that business is transacted efficiently and effectively Own endtoend investment processes, ensuring that processes, procedures, risks and controls are documented, effective and efficient. Regularly review and test processes and controls in accordance with Finance control and risk framework. Skills and Experience: The ability to build relationships with stakeholders at all levels both internal and external, able to challenge assumptions positively and bring people on the journey Strong written communication skills and must be fluent, articulate and confident in spoken communication Understanding of investment principles and significant experience of their practical application coupled with excellent analytical skills. A strong risks and control awareness is also required Strong organisational and planning skills coupled with ability to drive appropriate solutions. Proactive, highly motivated and change orientated, able to identify obstacles and clear them effectively IT literate, including experience of accounting systems and data warehouse architectures as well as desktop systems. Fluent with using Microsoft Excel, Word and PowerPoint Ability to understand, evaluate and interpret diverse financial data You will have experience of in a treasury/investment role, and must be ACA/ACCA/CIMA qualified or equivalent. August Clarke Limited is acting as a recruitment agency in relation to this role. We do not discriminate on the grounds of age, race, gender, disability, creed or sexual orientation and comply with all relevant UK legislation. If you do not hear back from us within **** working days please assume you have not been successful. This job was originally posted as www.totaljobs.com/JobSeeking/InvestmentsTreasuryController_job****\n"
     ]
    }
   ],
   "source": [
    "description_match = re.search(r'Description:\\s(.*)\\'', str(job_data['data'][emp]))\n",
    "print(description_match.group(1))"
   ]
  },
  {
   "cell_type": "code",
   "execution_count": 11,
   "metadata": {},
   "outputs": [
    {
     "data": {
      "text/plain": [
       "5"
      ]
     },
     "execution_count": 11,
     "metadata": {},
     "output_type": "execute_result"
    }
   ],
   "source": [
    "len(job_data)"
   ]
  },
  {
   "cell_type": "code",
   "execution_count": 12,
   "metadata": {},
   "outputs": [
    {
     "data": {
      "text/plain": [
       "776"
      ]
     },
     "execution_count": 12,
     "metadata": {},
     "output_type": "execute_result"
    }
   ],
   "source": [
    "len(job_data['data'])"
   ]
  },
  {
   "cell_type": "code",
   "execution_count": 13,
   "metadata": {},
   "outputs": [
    {
     "name": "stdout",
     "output_type": "stream",
     "text": [
      "[]\n",
      "776\n",
      "Our client, based in Eastleigh, is looking for an Investments and Treasury Controller to join their team. Duties to include: Take responsibility for transactional management, analysis and oversight of the Company\\xe2\\x80\\x99s investment portfolio, including compliance with relevant sections of the relevant policies Ensure that working capital and other liquid resources and cashflow are managed efficiently Deliver consistently against relevant KPIs and KRIs, analysing any shortfalls and putting appropriate action plans in place to remediate process issues Manage day to day relationships with the Company\\xe2\\x80\\x99s outsourced Investment Managers and Custodians ensuring that there is mutual understanding of each others\\xe2\\x80\\x99 operations, systems and developments so that business is transacted efficiently and effectively Own endtoend investment processes, ensuring that processes, procedures, risks and controls are documented, effective and efficient. Regularly review and test processes and controls in accordance with Finance control and risk framework. Skills and Experience: The ability to build relationships with stakeholders at all levels both internal and external, able to challenge assumptions positively and bring people on the journey Strong written communication skills and must be fluent, articulate and confident in spoken communication Understanding of investment principles and significant experience of their practical application coupled with excellent analytical skills. A strong risks and control awareness is also required Strong organisational and planning skills coupled with ability to drive appropriate solutions. Proactive, highly motivated and change orientated, able to identify obstacles and clear them effectively IT literate, including experience of accounting systems and data warehouse architectures as well as desktop systems. Fluent with using Microsoft Excel, Word and PowerPoint Ability to understand, evaluate and interpret diverse financial data You will have experience of in a treasury/investment role, and must be ACA/ACCA/CIMA qualified or equivalent. August Clarke Limited is acting as a recruitment agency in relation to this role. We do not discriminate on the grounds of age, race, gender, disability, creed or sexual orientation and comply with all relevant UK legislation. If you do not hear back from us within **** working days please assume you have not been successful. This job was originally posted as www.totaljobs.com/JobSeeking/InvestmentsTreasuryController_job****\n",
      "<class 'str'>\n"
     ]
    }
   ],
   "source": [
    "description_data = []\n",
    "noneType=[]\n",
    "for i in range(len(job_data['data'])):\n",
    "    description_match = re.search(r'Description:\\s(.*)[\\'\\\"]', str(job_data['data'][i]))\n",
    "    if description_match:\n",
    "        description_data.append(description_match.group(1))\n",
    "    else: \n",
    "        noneType.append(i)\n",
    "        \n",
    "        \n",
    "print(noneType)\n",
    "print(len(description_data))\n",
    "print(description_data[emp])\n",
    "print(type(description_data[emp]))"
   ]
  },
  {
   "cell_type": "code",
   "execution_count": 14,
   "metadata": {
    "scrolled": true
   },
   "outputs": [
    {
     "data": {
      "text/plain": [
       "b\"Title: PERM RGN's in Bangor CoDown  F/T Flexi  ****ph ExOpp  Bangor\\nWebindex: 71805092\\nCompany: Kare Plus Agencies Limited\\nDescription: KarePlus National recently secured the contract to supply several of the largest UK Residential, Elderly Care and Nursing Organisations and are recruiting THROUGHOUT THE UK in almost all geographical areas that these 700 homes cover for Minimum Qualifications: Registered General Nurse/Registered Mental NurseCurrently registered with NMCResponsible to: Home ManagerAims of post**** To ensure that high standards of resident and family care are maintained at all times, under the direction of the Home Manager.**** To maintain and motivate a professional and efficient staff and exercise leadership as part of the nursing team.**** To maintain a homely atmosphere and create a dignified environment.**** To ensure that all necessary standards are maintained in compliance with health care policy and Health Authority Guidelines.Functions**** Professional**** Administrative/Managerial**** Personnel**** Education and Training**** Professional Supervise the professional work of staff within the nursing home, in cooperation with the Home Manager in accordance with:a) NMC Code of Conductb) Policy & Procedure Manual of the nursing homec) Employee Handbookd) Company Health & Safety PolicyAssess, plan, implement and evaluate individualised care of residents.Ensure treatments are carried out as prescribed. Follow nursing home policy in respect of custody and administration of all drugs.Maintain personal contact with residents, their relatives and visitors to enhance the residents\\xe2\\x80\\x99 quality of life, and the good standing of the business.To continually update knowledge of nursing techniques and procedures and the relevant research that underpins nursing practice.Participate in the evaluation and review of policies and report to the Home Manager matters that effect policy.**** Administrative/Managerial Assist the Home Manager and his/her Deputy in the overall management of the nursing home as required.Assist in planning workloads and nursing resources as effectively as possible.Assist in maintaining stocks/stores at adequate levels, being mindful of the need for economy and good housekeeping.Ensure the safe care and custody of residents\\xe2\\x80\\x99 property in accordance with the nursing home policy.Report any accident/incident, loss or theft to the Home Manager and complete necessary statements promptly.Ensure that accurate nursing records are maintained in accordance with agreed policy.**** Personnel Maintain a working knowledge of:The Health And Safety At Work ActThe Operational Policies ManualThe Employee Handbook (for conditions of service, disciplinary/grievance procedure).Assist with the orientation of new staff to the nursing home.Assist with supervision and assessment of junior staff.**** Education & Traininga) Attend study days and courses as appropriate with regards to PREP.b) Update clinical knowledge and skills in current research and nursing theories.c) Participate in inservice training for more junior members of staff.d) Assist in the orientation programmes of all new care staff and nursing employees.e) Participate in the NVQ programme for Care Assistants.Please call the Permanent Services Recruitment and Resource team on **** ****/**** **** or our out of Hours Mobile **** **** ****Or email resourcerkareplus.co.uk or perm.managerkareplus.co.uk\""
      ]
     },
     "execution_count": 14,
     "metadata": {},
     "output_type": "execute_result"
    }
   ],
   "source": [
    "job_data['data'][21]"
   ]
  },
  {
   "cell_type": "markdown",
   "metadata": {},
   "source": [
    "### 1.2 Pre-processing data\n",
    "Perform the required text pre-processing steps."
   ]
  },
  {
   "cell_type": "markdown",
   "metadata": {},
   "source": [
    "...... Sections and code blocks on basic text pre-processing\n",
    "\n",
    "\n",
    "<span style=\"color: red\"> You might have complex notebook structure in this section, please feel free to create your own notebook structure. </span>"
   ]
  },
  {
   "cell_type": "code",
   "execution_count": 15,
   "metadata": {},
   "outputs": [],
   "source": [
    "# code to perform the task..."
   ]
  },
  {
   "cell_type": "code",
   "execution_count": 16,
   "metadata": {},
   "outputs": [],
   "source": [
    "def stats_print(tk_descriptions):\n",
    "    words = list(chain.from_iterable(tk_descriptions)) # we put all the tokens in the corpus in a single list\n",
    "    vocab = set(words) # compute the vocabulary by converting the list of words/tokens to a set, i.e., giving a set of unique words\n",
    "    lexical_diversity = len(vocab)/len(words)\n",
    "    print(\"Vocabulary size: \",len(vocab))\n",
    "    print(\"Total number of tokens: \", len(words))\n",
    "    print(\"Lexical diversity: \", lexical_diversity)\n",
    "    print(\"Total number of descriptions:\", len(tk_descriptions))\n",
    "    lens = [len(article) for article in tk_descriptions]\n",
    "    print(\"Average description length:\", np.mean(lens))\n",
    "    print(\"Maximum description length:\", np.max(lens))\n",
    "    print(\"Minimum description length:\", np.min(lens))\n",
    "    print(\"Standard deviation of description length:\", np.std(lens))"
   ]
  },
  {
   "cell_type": "code",
   "execution_count": 17,
   "metadata": {},
   "outputs": [],
   "source": [
    "from nltk import RegexpTokenizer\n",
    "from nltk.tokenize import sent_tokenize\n",
    "from itertools import chain \n",
    "\n",
    "def tokenizeDescription(orig_description):\n",
    "    lower_des = orig_description.lower()\n",
    "    \n",
    "    # segment lowered description to sentences\n",
    "    sentences = sent_tokenize(lower_des)\n",
    "    \n",
    "    #tokenize each sentence\n",
    "    pattern = r\"[a-zA-Z]+(?:[-'][a-zA-Z]+)?\"\n",
    "    \n",
    "    tokenizer = RegexpTokenizer(pattern)\n",
    "    token_lists = [tokenizer.tokenize(sen) for sen in sentences]\n",
    "    \n",
    "    # merge them into a list of tokens\n",
    "    tokenised_des = list(chain.from_iterable(token_lists))\n",
    "    return tokenised_des"
   ]
  },
  {
   "cell_type": "code",
   "execution_count": 18,
   "metadata": {},
   "outputs": [
    {
     "name": "stdout",
     "output_type": "stream",
     "text": [
      "Stored 'description_data' (list)\n"
     ]
    }
   ],
   "source": [
    "%store description_data"
   ]
  },
  {
   "cell_type": "code",
   "execution_count": 19,
   "metadata": {},
   "outputs": [],
   "source": [
    "# tokenised job description\n",
    "tk_descriptions = [tokenizeDescription(des) for des in description_data]"
   ]
  },
  {
   "cell_type": "code",
   "execution_count": 20,
   "metadata": {},
   "outputs": [
    {
     "name": "stdout",
     "output_type": "stream",
     "text": [
      "Raw description: \n",
      " Our client, based in Eastleigh, is looking for an Investments and Treasury Controller to join their team. Duties to include: Take responsibility for transactional management, analysis and oversight of the Company\\xe2\\x80\\x99s investment portfolio, including compliance with relevant sections of the relevant policies Ensure that working capital and other liquid resources and cashflow are managed efficiently Deliver consistently against relevant KPIs and KRIs, analysing any shortfalls and putting appropriate action plans in place to remediate process issues Manage day to day relationships with the Company\\xe2\\x80\\x99s outsourced Investment Managers and Custodians ensuring that there is mutual understanding of each others\\xe2\\x80\\x99 operations, systems and developments so that business is transacted efficiently and effectively Own endtoend investment processes, ensuring that processes, procedures, risks and controls are documented, effective and efficient. Regularly review and test processes and controls in accordance with Finance control and risk framework. Skills and Experience: The ability to build relationships with stakeholders at all levels both internal and external, able to challenge assumptions positively and bring people on the journey Strong written communication skills and must be fluent, articulate and confident in spoken communication Understanding of investment principles and significant experience of their practical application coupled with excellent analytical skills. A strong risks and control awareness is also required Strong organisational and planning skills coupled with ability to drive appropriate solutions. Proactive, highly motivated and change orientated, able to identify obstacles and clear them effectively IT literate, including experience of accounting systems and data warehouse architectures as well as desktop systems. Fluent with using Microsoft Excel, Word and PowerPoint Ability to understand, evaluate and interpret diverse financial data You will have experience of in a treasury/investment role, and must be ACA/ACCA/CIMA qualified or equivalent. August Clarke Limited is acting as a recruitment agency in relation to this role. We do not discriminate on the grounds of age, race, gender, disability, creed or sexual orientation and comply with all relevant UK legislation. If you do not hear back from us within **** working days please assume you have not been successful. This job was originally posted as www.totaljobs.com/JobSeeking/InvestmentsTreasuryController_job**** \n",
      "\n",
      "Tokenised description: \n",
      " ['our', 'client', 'based', 'in', 'eastleigh', 'is', 'looking', 'for', 'an', 'investments', 'and', 'treasury', 'controller', 'to', 'join', 'their', 'team', 'duties', 'to', 'include', 'take', 'responsibility', 'for', 'transactional', 'management', 'analysis', 'and', 'oversight', 'of', 'the', 'company', 'xe', 'x', 'x', 's', 'investment', 'portfolio', 'including', 'compliance', 'with', 'relevant', 'sections', 'of', 'the', 'relevant', 'policies', 'ensure', 'that', 'working', 'capital', 'and', 'other', 'liquid', 'resources', 'and', 'cashflow', 'are', 'managed', 'efficiently', 'deliver', 'consistently', 'against', 'relevant', 'kpis', 'and', 'kris', 'analysing', 'any', 'shortfalls', 'and', 'putting', 'appropriate', 'action', 'plans', 'in', 'place', 'to', 'remediate', 'process', 'issues', 'manage', 'day', 'to', 'day', 'relationships', 'with', 'the', 'company', 'xe', 'x', 'x', 's', 'outsourced', 'investment', 'managers', 'and', 'custodians', 'ensuring', 'that', 'there', 'is', 'mutual', 'understanding', 'of', 'each', 'others', 'xe', 'x', 'x', 'operations', 'systems', 'and', 'developments', 'so', 'that', 'business', 'is', 'transacted', 'efficiently', 'and', 'effectively', 'own', 'endtoend', 'investment', 'processes', 'ensuring', 'that', 'processes', 'procedures', 'risks', 'and', 'controls', 'are', 'documented', 'effective', 'and', 'efficient', 'regularly', 'review', 'and', 'test', 'processes', 'and', 'controls', 'in', 'accordance', 'with', 'finance', 'control', 'and', 'risk', 'framework', 'skills', 'and', 'experience', 'the', 'ability', 'to', 'build', 'relationships', 'with', 'stakeholders', 'at', 'all', 'levels', 'both', 'internal', 'and', 'external', 'able', 'to', 'challenge', 'assumptions', 'positively', 'and', 'bring', 'people', 'on', 'the', 'journey', 'strong', 'written', 'communication', 'skills', 'and', 'must', 'be', 'fluent', 'articulate', 'and', 'confident', 'in', 'spoken', 'communication', 'understanding', 'of', 'investment', 'principles', 'and', 'significant', 'experience', 'of', 'their', 'practical', 'application', 'coupled', 'with', 'excellent', 'analytical', 'skills', 'a', 'strong', 'risks', 'and', 'control', 'awareness', 'is', 'also', 'required', 'strong', 'organisational', 'and', 'planning', 'skills', 'coupled', 'with', 'ability', 'to', 'drive', 'appropriate', 'solutions', 'proactive', 'highly', 'motivated', 'and', 'change', 'orientated', 'able', 'to', 'identify', 'obstacles', 'and', 'clear', 'them', 'effectively', 'it', 'literate', 'including', 'experience', 'of', 'accounting', 'systems', 'and', 'data', 'warehouse', 'architectures', 'as', 'well', 'as', 'desktop', 'systems', 'fluent', 'with', 'using', 'microsoft', 'excel', 'word', 'and', 'powerpoint', 'ability', 'to', 'understand', 'evaluate', 'and', 'interpret', 'diverse', 'financial', 'data', 'you', 'will', 'have', 'experience', 'of', 'in', 'a', 'treasury', 'investment', 'role', 'and', 'must', 'be', 'aca', 'acca', 'cima', 'qualified', 'or', 'equivalent', 'august', 'clarke', 'limited', 'is', 'acting', 'as', 'a', 'recruitment', 'agency', 'in', 'relation', 'to', 'this', 'role', 'we', 'do', 'not', 'discriminate', 'on', 'the', 'grounds', 'of', 'age', 'race', 'gender', 'disability', 'creed', 'or', 'sexual', 'orientation', 'and', 'comply', 'with', 'all', 'relevant', 'uk', 'legislation', 'if', 'you', 'do', 'not', 'hear', 'back', 'from', 'us', 'within', 'working', 'days', 'please', 'assume', 'you', 'have', 'not', 'been', 'successful', 'this', 'job', 'was', 'originally', 'posted', 'as', 'www', 'totaljobs', 'com', 'jobseeking', 'investmentstreasurycontroller', 'job']\n"
     ]
    }
   ],
   "source": [
    "print(\"Raw description: \\n\", description_data[emp], \"\\n\")\n",
    "print(\"Tokenised description: \\n\", tk_descriptions[emp])"
   ]
  },
  {
   "cell_type": "code",
   "execution_count": 21,
   "metadata": {},
   "outputs": [
    {
     "data": {
      "text/plain": [
       "776"
      ]
     },
     "execution_count": 21,
     "metadata": {},
     "output_type": "execute_result"
    }
   ],
   "source": [
    "len(tk_descriptions)"
   ]
  },
  {
   "cell_type": "code",
   "execution_count": 22,
   "metadata": {},
   "outputs": [
    {
     "data": {
      "text/plain": [
       "list"
      ]
     },
     "execution_count": 22,
     "metadata": {},
     "output_type": "execute_result"
    }
   ],
   "source": [
    "type(tk_descriptions[emp])"
   ]
  },
  {
   "cell_type": "code",
   "execution_count": 23,
   "metadata": {},
   "outputs": [
    {
     "data": {
      "text/plain": [
       "364"
      ]
     },
     "execution_count": 23,
     "metadata": {},
     "output_type": "execute_result"
    }
   ],
   "source": [
    "len(tk_descriptions[emp])"
   ]
  },
  {
   "cell_type": "code",
   "execution_count": 24,
   "metadata": {},
   "outputs": [
    {
     "name": "stdout",
     "output_type": "stream",
     "text": [
      "['our', 'client', 'based', 'in', 'eastleigh', 'is', 'looking', 'for', 'an', 'investments', 'and', 'treasury', 'controller', 'to', 'join', 'their', 'team', 'duties', 'to', 'include', 'take', 'responsibility', 'for', 'transactional', 'management', 'analysis', 'and', 'oversight', 'of', 'the', 'company', 'xe', 'x', 'x', 's', 'investment', 'portfolio', 'including', 'compliance', 'with', 'relevant', 'sections', 'of', 'the', 'relevant', 'policies', 'ensure', 'that', 'working', 'capital', 'and', 'other', 'liquid', 'resources', 'and', 'cashflow', 'are', 'managed', 'efficiently', 'deliver', 'consistently', 'against', 'relevant', 'kpis', 'and', 'kris', 'analysing', 'any', 'shortfalls', 'and', 'putting', 'appropriate', 'action', 'plans', 'in', 'place', 'to', 'remediate', 'process', 'issues', 'manage', 'day', 'to', 'day', 'relationships', 'with', 'the', 'company', 'xe', 'x', 'x', 's', 'outsourced', 'investment', 'managers', 'and', 'custodians', 'ensuring', 'that', 'there', 'is', 'mutual', 'understanding', 'of', 'each', 'others', 'xe', 'x', 'x', 'operations', 'systems', 'and', 'developments', 'so', 'that', 'business', 'is', 'transacted', 'efficiently', 'and', 'effectively', 'own', 'endtoend', 'investment', 'processes', 'ensuring', 'that', 'processes', 'procedures', 'risks', 'and', 'controls', 'are', 'documented', 'effective', 'and', 'efficient', 'regularly', 'review', 'and', 'test', 'processes', 'and', 'controls', 'in', 'accordance', 'with', 'finance', 'control', 'and', 'risk', 'framework', 'skills', 'and', 'experience', 'the', 'ability', 'to', 'build', 'relationships', 'with', 'stakeholders', 'at', 'all', 'levels', 'both', 'internal', 'and', 'external', 'able', 'to', 'challenge', 'assumptions', 'positively', 'and', 'bring', 'people', 'on', 'the', 'journey', 'strong', 'written', 'communication', 'skills', 'and', 'must', 'be', 'fluent', 'articulate', 'and', 'confident', 'in', 'spoken', 'communication', 'understanding', 'of', 'investment', 'principles', 'and', 'significant', 'experience', 'of', 'their', 'practical', 'application', 'coupled', 'with', 'excellent', 'analytical', 'skills', 'a', 'strong', 'risks', 'and', 'control', 'awareness', 'is', 'also', 'required', 'strong', 'organisational', 'and', 'planning', 'skills', 'coupled', 'with', 'ability', 'to', 'drive', 'appropriate', 'solutions', 'proactive', 'highly', 'motivated', 'and', 'change', 'orientated', 'able', 'to', 'identify', 'obstacles', 'and', 'clear', 'them', 'effectively', 'it', 'literate', 'including', 'experience', 'of', 'accounting', 'systems', 'and', 'data', 'warehouse', 'architectures', 'as', 'well', 'as', 'desktop', 'systems', 'fluent', 'with', 'using', 'microsoft', 'excel', 'word', 'and', 'powerpoint', 'ability', 'to', 'understand', 'evaluate', 'and', 'interpret', 'diverse', 'financial', 'data', 'you', 'will', 'have', 'experience', 'of', 'in', 'a', 'treasury', 'investment', 'role', 'and', 'must', 'be', 'aca', 'acca', 'cima', 'qualified', 'or', 'equivalent', 'august', 'clarke', 'limited', 'is', 'acting', 'as', 'a', 'recruitment', 'agency', 'in', 'relation', 'to', 'this', 'role', 'we', 'do', 'not', 'discriminate', 'on', 'the', 'grounds', 'of', 'age', 'race', 'gender', 'disability', 'creed', 'or', 'sexual', 'orientation', 'and', 'comply', 'with', 'all', 'relevant', 'uk', 'legislation', 'if', 'you', 'do', 'not', 'hear', 'back', 'from', 'us', 'within', 'working', 'days', 'please', 'assume', 'you', 'have', 'not', 'been', 'successful', 'this', 'job', 'was', 'originally', 'posted', 'as', 'www', 'totaljobs', 'com', 'jobseeking', 'investmentstreasurycontroller', 'job']\n"
     ]
    }
   ],
   "source": [
    "print(tk_descriptions[emp])"
   ]
  },
  {
   "cell_type": "code",
   "execution_count": 25,
   "metadata": {},
   "outputs": [
    {
     "data": {
      "text/plain": [
       "91"
      ]
     },
     "execution_count": 25,
     "metadata": {},
     "output_type": "execute_result"
    }
   ],
   "source": [
    "len(tk_descriptions[emp+1])"
   ]
  },
  {
   "cell_type": "code",
   "execution_count": 26,
   "metadata": {},
   "outputs": [
    {
     "name": "stdout",
     "output_type": "stream",
     "text": [
      "['well', 'established', 'company', 'based', 'in', 'hemel', 'hempstead', 'looking', 'for', 'someone', 'to', 'join', 'the', 'payroll', 'team', 'to', 'process', 'the', 'payroll', 'for', 'their', 'european', 'employees', 'have', 'you', 'previously', 'worked', 'within', 'a', 'role', 'where', 'you', 'have', 'been', 'processing', 'european', 'payroll', 'are', 'you', 'available', 'long', 'term', 'are', 'you', 'happy', 'to', 'work', 'full', 'time', 'hours', 'this', 'position', 'will', 'be', 'monday', 'to', 'friday', 'working', 'am', 'to', 'pm', 'the', 'role', 'will', 'be', 'working', 'within', 'the', 'payroll', 'team', 'to', 'process', 'payroll', 'for', 'their', 'european', 'employees', 'this', 'is', 'a', 'temporary', 'to', 'permanent', 'position', 'so', 'you', 'must', 'be', 'available', 'long', 'term']\n"
     ]
    }
   ],
   "source": [
    "print(tk_descriptions[emp+1])"
   ]
  },
  {
   "cell_type": "code",
   "execution_count": 27,
   "metadata": {},
   "outputs": [
    {
     "name": "stdout",
     "output_type": "stream",
     "text": [
      "Vocabulary size:  9841\n",
      "Total number of tokens:  188595\n",
      "Lexical diversity:  0.05218059863729155\n",
      "Total number of descriptions: 776\n",
      "Average description length: 243.034793814433\n",
      "Maximum description length: 845\n",
      "Minimum description length: 13\n",
      "Standard deviation of description length: 126.63079532828084\n"
     ]
    }
   ],
   "source": [
    "stats_print(tk_descriptions)"
   ]
  },
  {
   "cell_type": "code",
   "execution_count": 28,
   "metadata": {
    "scrolled": false
   },
   "outputs": [
    {
     "name": "stdout",
     "output_type": "stream",
     "text": [
      "Tokenised description: \n",
      " ['our', 'client', 'based', 'in', 'eastleigh', 'is', 'looking', 'for', 'an', 'investments', 'and', 'treasury', 'controller', 'to', 'join', 'their', 'team', 'duties', 'to', 'include', 'take', 'responsibility', 'for', 'transactional', 'management', 'analysis', 'and', 'oversight', 'of', 'the', 'company', 'xe', 'investment', 'portfolio', 'including', 'compliance', 'with', 'relevant', 'sections', 'of', 'the', 'relevant', 'policies', 'ensure', 'that', 'working', 'capital', 'and', 'other', 'liquid', 'resources', 'and', 'cashflow', 'are', 'managed', 'efficiently', 'deliver', 'consistently', 'against', 'relevant', 'kpis', 'and', 'kris', 'analysing', 'any', 'shortfalls', 'and', 'putting', 'appropriate', 'action', 'plans', 'in', 'place', 'to', 'remediate', 'process', 'issues', 'manage', 'day', 'to', 'day', 'relationships', 'with', 'the', 'company', 'xe', 'outsourced', 'investment', 'managers', 'and', 'custodians', 'ensuring', 'that', 'there', 'is', 'mutual', 'understanding', 'of', 'each', 'others', 'xe', 'operations', 'systems', 'and', 'developments', 'so', 'that', 'business', 'is', 'transacted', 'efficiently', 'and', 'effectively', 'own', 'endtoend', 'investment', 'processes', 'ensuring', 'that', 'processes', 'procedures', 'risks', 'and', 'controls', 'are', 'documented', 'effective', 'and', 'efficient', 'regularly', 'review', 'and', 'test', 'processes', 'and', 'controls', 'in', 'accordance', 'with', 'finance', 'control', 'and', 'risk', 'framework', 'skills', 'and', 'experience', 'the', 'ability', 'to', 'build', 'relationships', 'with', 'stakeholders', 'at', 'all', 'levels', 'both', 'internal', 'and', 'external', 'able', 'to', 'challenge', 'assumptions', 'positively', 'and', 'bring', 'people', 'on', 'the', 'journey', 'strong', 'written', 'communication', 'skills', 'and', 'must', 'be', 'fluent', 'articulate', 'and', 'confident', 'in', 'spoken', 'communication', 'understanding', 'of', 'investment', 'principles', 'and', 'significant', 'experience', 'of', 'their', 'practical', 'application', 'coupled', 'with', 'excellent', 'analytical', 'skills', 'strong', 'risks', 'and', 'control', 'awareness', 'is', 'also', 'required', 'strong', 'organisational', 'and', 'planning', 'skills', 'coupled', 'with', 'ability', 'to', 'drive', 'appropriate', 'solutions', 'proactive', 'highly', 'motivated', 'and', 'change', 'orientated', 'able', 'to', 'identify', 'obstacles', 'and', 'clear', 'them', 'effectively', 'it', 'literate', 'including', 'experience', 'of', 'accounting', 'systems', 'and', 'data', 'warehouse', 'architectures', 'as', 'well', 'as', 'desktop', 'systems', 'fluent', 'with', 'using', 'microsoft', 'excel', 'word', 'and', 'powerpoint', 'ability', 'to', 'understand', 'evaluate', 'and', 'interpret', 'diverse', 'financial', 'data', 'you', 'will', 'have', 'experience', 'of', 'in', 'treasury', 'investment', 'role', 'and', 'must', 'be', 'aca', 'acca', 'cima', 'qualified', 'or', 'equivalent', 'august', 'clarke', 'limited', 'is', 'acting', 'as', 'recruitment', 'agency', 'in', 'relation', 'to', 'this', 'role', 'we', 'do', 'not', 'discriminate', 'on', 'the', 'grounds', 'of', 'age', 'race', 'gender', 'disability', 'creed', 'or', 'sexual', 'orientation', 'and', 'comply', 'with', 'all', 'relevant', 'uk', 'legislation', 'if', 'you', 'do', 'not', 'hear', 'back', 'from', 'us', 'within', 'working', 'days', 'please', 'assume', 'you', 'have', 'not', 'been', 'successful', 'this', 'job', 'was', 'originally', 'posted', 'as', 'www', 'totaljobs', 'com', 'jobseeking', 'investmentstreasurycontroller', 'job']\n"
     ]
    }
   ],
   "source": [
    "# remove tokens with length<2\n",
    "tk_descriptions = [[w for w in des if len(w) >=2] \\\n",
    "                   for des in tk_descriptions]\n",
    "print(\"Tokenised description: \\n\", tk_descriptions[emp])"
   ]
  },
  {
   "cell_type": "code",
   "execution_count": 29,
   "metadata": {},
   "outputs": [
    {
     "name": "stdout",
     "output_type": "stream",
     "text": [
      "Vocabulary size:  9815\n",
      "Total number of tokens:  181770\n",
      "Lexical diversity:  0.05399680915442592\n",
      "Total number of descriptions: 776\n",
      "Average description length: 234.23969072164948\n",
      "Maximum description length: 805\n",
      "Minimum description length: 13\n",
      "Standard deviation of description length: 122.26185255260559\n"
     ]
    }
   ],
   "source": [
    "stats_print(tk_descriptions)"
   ]
  },
  {
   "cell_type": "code",
   "execution_count": 30,
   "metadata": {},
   "outputs": [
    {
     "data": {
      "text/plain": [
       "571"
      ]
     },
     "execution_count": 30,
     "metadata": {},
     "output_type": "execute_result"
    }
   ],
   "source": [
    "stopwords_file = './stopwords_en.txt'\n",
    "with open(stopwords_file, 'r') as file: \n",
    "    stopwords_en = file.read(). splitlines()\n",
    "    \n",
    "len(stopwords_en)"
   ]
  },
  {
   "cell_type": "code",
   "execution_count": 31,
   "metadata": {},
   "outputs": [
    {
     "name": "stdout",
     "output_type": "stream",
     "text": [
      "['a', \"a's\", 'able', 'about', 'above', 'according', 'accordingly', 'across', 'actually', 'after', 'afterwards', 'again', 'against', \"ain't\", 'all', 'allow', 'allows', 'almost', 'alone', 'along', 'already', 'also', 'although', 'always', 'am', 'among', 'amongst', 'an', 'and', 'another', 'any', 'anybody', 'anyhow', 'anyone', 'anything', 'anyway', 'anyways', 'anywhere', 'apart', 'appear', 'appreciate', 'appropriate', 'are', \"aren't\", 'around', 'as', 'aside', 'ask', 'asking', 'associated', 'at', 'available', 'away', 'awfully', 'b', 'be', 'became', 'because', 'become', 'becomes', 'becoming', 'been', 'before', 'beforehand', 'behind', 'being', 'believe', 'below', 'beside', 'besides', 'best', 'better', 'between', 'beyond', 'both', 'brief', 'but', 'by', 'c', \"c'mon\", \"c's\", 'came', 'can', \"can't\", 'cannot', 'cant', 'cause', 'causes', 'certain', 'certainly', 'changes', 'clearly', 'co', 'com', 'come', 'comes', 'concerning', 'consequently', 'consider', 'considering', 'contain', 'containing', 'contains', 'corresponding', 'could', \"couldn't\", 'course', 'currently', 'd', 'definitely', 'described', 'despite', 'did', \"didn't\", 'different', 'do', 'does', \"doesn't\", 'doing', \"don't\", 'done', 'down', 'downwards', 'during', 'e', 'each', 'edu', 'eg', 'eight', 'either', 'else', 'elsewhere', 'enough', 'entirely', 'especially', 'et', 'etc', 'even', 'ever', 'every', 'everybody', 'everyone', 'everything', 'everywhere', 'ex', 'exactly', 'example', 'except', 'f', 'far', 'few', 'fifth', 'first', 'five', 'followed', 'following', 'follows', 'for', 'former', 'formerly', 'forth', 'four', 'from', 'further', 'furthermore', 'g', 'get', 'gets', 'getting', 'given', 'gives', 'go', 'goes', 'going', 'gone', 'got', 'gotten', 'greetings', 'h', 'had', \"hadn't\", 'happens', 'hardly', 'has', \"hasn't\", 'have', \"haven't\", 'having', 'he', \"he's\", 'hello', 'help', 'hence', 'her', 'here', \"here's\", 'hereafter', 'hereby', 'herein', 'hereupon', 'hers', 'herself', 'hi', 'him', 'himself', 'his', 'hither', 'hopefully', 'how', 'howbeit', 'however', 'i', \"i'd\", \"i'll\", \"i'm\", \"i've\", 'ie', 'if', 'ignored', 'immediate', 'in', 'inasmuch', 'inc', 'indeed', 'indicate', 'indicated', 'indicates', 'inner', 'insofar', 'instead', 'into', 'inward', 'is', \"isn't\", 'it', \"it'd\", \"it'll\", \"it's\", 'its', 'itself', 'j', 'just', 'k', 'keep', 'keeps', 'kept', 'know', 'knows', 'known', 'l', 'last', 'lately', 'later', 'latter', 'latterly', 'least', 'less', 'lest', 'let', \"let's\", 'like', 'liked', 'likely', 'little', 'look', 'looking', 'looks', 'ltd', 'm', 'mainly', 'many', 'may', 'maybe', 'me', 'mean', 'meanwhile', 'merely', 'might', 'more', 'moreover', 'most', 'mostly', 'much', 'must', 'my', 'myself', 'n', 'name', 'namely', 'nd', 'near', 'nearly', 'necessary', 'need', 'needs', 'neither', 'never', 'nevertheless', 'new', 'next', 'nine', 'no', 'nobody', 'non', 'none', 'noone', 'nor', 'normally', 'not', 'nothing', 'novel', 'now', 'nowhere', 'o', 'obviously', 'of', 'off', 'often', 'oh', 'ok', 'okay', 'old', 'on', 'once', 'one', 'ones', 'only', 'onto', 'or', 'other', 'others', 'otherwise', 'ought', 'our', 'ours', 'ourselves', 'out', 'outside', 'over', 'overall', 'own', 'p', 'particular', 'particularly', 'per', 'perhaps', 'placed', 'please', 'plus', 'possible', 'presumably', 'probably', 'provides', 'q', 'que', 'quite', 'qv', 'r', 'rather', 'rd', 're', 'really', 'reasonably', 'regarding', 'regardless', 'regards', 'relatively', 'respectively', 'right', 's', 'said', 'same', 'saw', 'say', 'saying', 'says', 'second', 'secondly', 'see', 'seeing', 'seem', 'seemed', 'seeming', 'seems', 'seen', 'self', 'selves', 'sensible', 'sent', 'serious', 'seriously', 'seven', 'several', 'shall', 'she', 'should', \"shouldn't\", 'since', 'six', 'so', 'some', 'somebody', 'somehow', 'someone', 'something', 'sometime', 'sometimes', 'somewhat', 'somewhere', 'soon', 'sorry', 'specified', 'specify', 'specifying', 'still', 'sub', 'such', 'sup', 'sure', 't', \"t's\", 'take', 'taken', 'tell', 'tends', 'th', 'than', 'thank', 'thanks', 'thanx', 'that', \"that's\", 'thats', 'the', 'their', 'theirs', 'them', 'themselves', 'then', 'thence', 'there', \"there's\", 'thereafter', 'thereby', 'therefore', 'therein', 'theres', 'thereupon', 'these', 'they', \"they'd\", \"they'll\", \"they're\", \"they've\", 'think', 'third', 'this', 'thorough', 'thoroughly', 'those', 'though', 'three', 'through', 'throughout', 'thru', 'thus', 'to', 'together', 'too', 'took', 'toward', 'towards', 'tried', 'tries', 'truly', 'try', 'trying', 'twice', 'two', 'u', 'un', 'under', 'unfortunately', 'unless', 'unlikely', 'until', 'unto', 'up', 'upon', 'us', 'use', 'used', 'useful', 'uses', 'using', 'usually', 'uucp', 'v', 'value', 'various', 'very', 'via', 'viz', 'vs', 'w', 'want', 'wants', 'was', \"wasn't\", 'way', 'we', \"we'd\", \"we'll\", \"we're\", \"we've\", 'welcome', 'well', 'went', 'were', \"weren't\", 'what', \"what's\", 'whatever', 'when', 'whence', 'whenever', 'where', \"where's\", 'whereafter', 'whereas', 'whereby', 'wherein', 'whereupon', 'wherever', 'whether', 'which', 'while', 'whither', 'who', \"who's\", 'whoever', 'whole', 'whom', 'whose', 'why', 'will', 'willing', 'wish', 'with', 'within', 'without', \"won't\", 'wonder', 'would', 'would', \"wouldn't\", 'x', 'y', 'yes', 'yet', 'you', \"you'd\", \"you'll\", \"you're\", \"you've\", 'your', 'yours', 'yourself', 'yourselves', 'z', 'zero']\n"
     ]
    }
   ],
   "source": [
    "print(stopwords_en)"
   ]
  },
  {
   "cell_type": "code",
   "execution_count": 32,
   "metadata": {},
   "outputs": [
    {
     "data": {
      "text/plain": [
       "['our',\n",
       " 'in',\n",
       " 'is',\n",
       " 'looking',\n",
       " 'for',\n",
       " 'an',\n",
       " 'and',\n",
       " 'to',\n",
       " 'their',\n",
       " 'to',\n",
       " 'take',\n",
       " 'for',\n",
       " 'and',\n",
       " 'of',\n",
       " 'the',\n",
       " 'with',\n",
       " 'of',\n",
       " 'the',\n",
       " 'that',\n",
       " 'and',\n",
       " 'other',\n",
       " 'and',\n",
       " 'are',\n",
       " 'against',\n",
       " 'and',\n",
       " 'any',\n",
       " 'and',\n",
       " 'appropriate',\n",
       " 'in',\n",
       " 'to',\n",
       " 'to',\n",
       " 'with',\n",
       " 'the',\n",
       " 'and',\n",
       " 'that',\n",
       " 'there',\n",
       " 'is',\n",
       " 'of',\n",
       " 'each',\n",
       " 'others',\n",
       " 'and',\n",
       " 'so',\n",
       " 'that',\n",
       " 'is',\n",
       " 'and',\n",
       " 'own',\n",
       " 'that',\n",
       " 'and',\n",
       " 'are',\n",
       " 'and',\n",
       " 'and',\n",
       " 'and',\n",
       " 'in',\n",
       " 'with',\n",
       " 'and',\n",
       " 'and',\n",
       " 'the',\n",
       " 'to',\n",
       " 'with',\n",
       " 'at',\n",
       " 'all',\n",
       " 'both',\n",
       " 'and',\n",
       " 'able',\n",
       " 'to',\n",
       " 'and',\n",
       " 'on',\n",
       " 'the',\n",
       " 'and',\n",
       " 'must',\n",
       " 'be',\n",
       " 'and',\n",
       " 'in',\n",
       " 'of',\n",
       " 'and',\n",
       " 'of',\n",
       " 'their',\n",
       " 'with',\n",
       " 'and',\n",
       " 'is',\n",
       " 'also',\n",
       " 'and',\n",
       " 'with',\n",
       " 'to',\n",
       " 'appropriate',\n",
       " 'and',\n",
       " 'able',\n",
       " 'to',\n",
       " 'and',\n",
       " 'them',\n",
       " 'it',\n",
       " 'of',\n",
       " 'and',\n",
       " 'as',\n",
       " 'well',\n",
       " 'as',\n",
       " 'with',\n",
       " 'using',\n",
       " 'and',\n",
       " 'to',\n",
       " 'and',\n",
       " 'you',\n",
       " 'will',\n",
       " 'have',\n",
       " 'of',\n",
       " 'in',\n",
       " 'and',\n",
       " 'must',\n",
       " 'be',\n",
       " 'or',\n",
       " 'is',\n",
       " 'as',\n",
       " 'in',\n",
       " 'to',\n",
       " 'this',\n",
       " 'we',\n",
       " 'do',\n",
       " 'not',\n",
       " 'on',\n",
       " 'the',\n",
       " 'of',\n",
       " 'or',\n",
       " 'and',\n",
       " 'with',\n",
       " 'all',\n",
       " 'if',\n",
       " 'you',\n",
       " 'do',\n",
       " 'not',\n",
       " 'from',\n",
       " 'us',\n",
       " 'within',\n",
       " 'please',\n",
       " 'you',\n",
       " 'have',\n",
       " 'not',\n",
       " 'been',\n",
       " 'this',\n",
       " 'was',\n",
       " 'as',\n",
       " 'com']"
      ]
     },
     "execution_count": 32,
     "metadata": {},
     "output_type": "execute_result"
    }
   ],
   "source": [
    "[w for w in tk_descriptions[emp] if w in stopwords_en]"
   ]
  },
  {
   "cell_type": "code",
   "execution_count": 33,
   "metadata": {
    "scrolled": true
   },
   "outputs": [
    {
     "name": "stdout",
     "output_type": "stream",
     "text": [
      "776\n",
      "['client', 'based', 'eastleigh', 'investments', 'treasury', 'controller', 'join', 'team', 'duties', 'include', 'responsibility', 'transactional', 'management', 'analysis', 'oversight', 'company', 'xe', 'investment', 'portfolio', 'including', 'compliance', 'relevant', 'sections', 'relevant', 'policies', 'ensure', 'working', 'capital', 'liquid', 'resources', 'cashflow', 'managed', 'efficiently', 'deliver', 'consistently', 'relevant', 'kpis', 'kris', 'analysing', 'shortfalls', 'putting', 'action', 'plans', 'place', 'remediate', 'process', 'issues', 'manage', 'day', 'day', 'relationships', 'company', 'xe', 'outsourced', 'investment', 'managers', 'custodians', 'ensuring', 'mutual', 'understanding', 'xe', 'operations', 'systems', 'developments', 'business', 'transacted', 'efficiently', 'effectively', 'endtoend', 'investment', 'processes', 'ensuring', 'processes', 'procedures', 'risks', 'controls', 'documented', 'effective', 'efficient', 'regularly', 'review', 'test', 'processes', 'controls', 'accordance', 'finance', 'control', 'risk', 'framework', 'skills', 'experience', 'ability', 'build', 'relationships', 'stakeholders', 'levels', 'internal', 'external', 'challenge', 'assumptions', 'positively', 'bring', 'people', 'journey', 'strong', 'written', 'communication', 'skills', 'fluent', 'articulate', 'confident', 'spoken', 'communication', 'understanding', 'investment', 'principles', 'significant', 'experience', 'practical', 'application', 'coupled', 'excellent', 'analytical', 'skills', 'strong', 'risks', 'control', 'awareness', 'required', 'strong', 'organisational', 'planning', 'skills', 'coupled', 'ability', 'drive', 'solutions', 'proactive', 'highly', 'motivated', 'change', 'orientated', 'identify', 'obstacles', 'clear', 'effectively', 'literate', 'including', 'experience', 'accounting', 'systems', 'data', 'warehouse', 'architectures', 'desktop', 'systems', 'fluent', 'microsoft', 'excel', 'word', 'powerpoint', 'ability', 'understand', 'evaluate', 'interpret', 'diverse', 'financial', 'data', 'experience', 'treasury', 'investment', 'role', 'aca', 'acca', 'cima', 'qualified', 'equivalent', 'august', 'clarke', 'limited', 'acting', 'recruitment', 'agency', 'relation', 'role', 'discriminate', 'grounds', 'age', 'race', 'gender', 'disability', 'creed', 'sexual', 'orientation', 'comply', 'relevant', 'uk', 'legislation', 'hear', 'back', 'working', 'days', 'assume', 'successful', 'job', 'originally', 'posted', 'www', 'totaljobs', 'jobseeking', 'investmentstreasurycontroller', 'job']\n"
     ]
    }
   ],
   "source": [
    "# remove tokens included in the stopwords list\n",
    "tk_descriptions = [[w for w in des if w not in stopwords_en] \\\n",
    "                   for des in tk_descriptions]\n",
    "print(len(tk_descriptions))\n",
    "print(tk_descriptions[emp])\n"
   ]
  },
  {
   "cell_type": "code",
   "execution_count": 34,
   "metadata": {},
   "outputs": [
    {
     "name": "stdout",
     "output_type": "stream",
     "text": [
      "Vocabulary size:  9411\n",
      "Total number of tokens:  108018\n",
      "Lexical diversity:  0.08712436816086208\n",
      "Total number of descriptions: 776\n",
      "Average description length: 139.19845360824743\n",
      "Maximum description length: 487\n",
      "Minimum description length: 12\n",
      "Standard deviation of description length: 73.77547994359401\n"
     ]
    }
   ],
   "source": [
    "stats_print(tk_descriptions)"
   ]
  },
  {
   "cell_type": "code",
   "execution_count": 35,
   "metadata": {},
   "outputs": [
    {
     "data": {
      "text/plain": [
       "list"
      ]
     },
     "execution_count": 35,
     "metadata": {},
     "output_type": "execute_result"
    }
   ],
   "source": [
    "type(tk_descriptions[emp])"
   ]
  },
  {
   "cell_type": "markdown",
   "metadata": {},
   "source": [
    "#### Most frequent words w.r.t Term Frequency"
   ]
  },
  {
   "cell_type": "code",
   "execution_count": 36,
   "metadata": {},
   "outputs": [],
   "source": [
    "from nltk.probability import *\n",
    "words = list(chain.from_iterable(tk_descriptions))"
   ]
  },
  {
   "cell_type": "code",
   "execution_count": 37,
   "metadata": {},
   "outputs": [],
   "source": [
    "# compute term frequency for each unique word/type\n",
    "term_fd = FreqDist(words)"
   ]
  },
  {
   "cell_type": "code",
   "execution_count": 38,
   "metadata": {},
   "outputs": [
    {
     "data": {
      "text/plain": [
       "{'contractually',\n",
       " 'quang',\n",
       " 'intrastat',\n",
       " 'forgetting',\n",
       " 'mechancial',\n",
       " 'shepton',\n",
       " 'schemeoperationsadministrator',\n",
       " 'medicalrecruitmentaapct',\n",
       " 'lights',\n",
       " 'china',\n",
       " 'homebased',\n",
       " 'ukas',\n",
       " 'earlies',\n",
       " 'appeals',\n",
       " 'holidayabout',\n",
       " 'qms',\n",
       " 'relaxation',\n",
       " 'caterers',\n",
       " 'accounted',\n",
       " 'sporting',\n",
       " 'gael',\n",
       " 'sefydlog',\n",
       " 'xmc',\n",
       " 'multilingual',\n",
       " 'riskbased',\n",
       " 'lyme',\n",
       " 'qs',\n",
       " 'companys',\n",
       " 'negligence',\n",
       " 'probity',\n",
       " 'airframe',\n",
       " 'wcdma',\n",
       " 'memory',\n",
       " 'mdonnellycobaltrecruitment',\n",
       " 'euros',\n",
       " 'testandvalidationengineer',\n",
       " 'accurancy',\n",
       " 'vaccinations',\n",
       " 'denominations',\n",
       " 'conclusions',\n",
       " 'juniorsalesassistantimmediatestart',\n",
       " 'horsley',\n",
       " 'france',\n",
       " 'stripping',\n",
       " 'interpretations',\n",
       " 'ota',\n",
       " 'sterling',\n",
       " 'hydrogen',\n",
       " 'degenerative',\n",
       " 'landscape',\n",
       " 'wan',\n",
       " 'derbyn',\n",
       " 'burning',\n",
       " 'boxing',\n",
       " 'permanently',\n",
       " 'souths',\n",
       " 'seniorleadengineer',\n",
       " 'leaver',\n",
       " 'deposit',\n",
       " 'marketsstrong',\n",
       " 'gilltimothyjamesconsulting',\n",
       " 'learnif',\n",
       " 'presently',\n",
       " 'jeffreys',\n",
       " 'attercliffe',\n",
       " 'cifs',\n",
       " 'ryanh',\n",
       " 'sportsstrong',\n",
       " 'adultsqualifiedsocialworkergloucestershire',\n",
       " 'shrewsbury',\n",
       " 'glorious',\n",
       " 'tray',\n",
       " 'farnham',\n",
       " 'prescriptions',\n",
       " 'ryan',\n",
       " 'barring',\n",
       " 'policyassess',\n",
       " 'motortradejobs',\n",
       " 'principally',\n",
       " 'rose',\n",
       " 'yw',\n",
       " 'lasts',\n",
       " 'lhb',\n",
       " 'stamp',\n",
       " 'attendances',\n",
       " 'rhwng',\n",
       " 'fmc',\n",
       " 'container',\n",
       " 'costings',\n",
       " 'qpa',\n",
       " 'prediction',\n",
       " 'cssiw',\n",
       " 'reduces',\n",
       " 'iwerddon',\n",
       " \"yw'ch\",\n",
       " 'icas',\n",
       " 'kit',\n",
       " 'castle',\n",
       " 'srgeurope',\n",
       " 'affinities',\n",
       " 'customs',\n",
       " 'barclay',\n",
       " 'characterization',\n",
       " 'dogfennau',\n",
       " 'formally',\n",
       " 'ambience',\n",
       " 'weighing',\n",
       " 'documentaries',\n",
       " 'br',\n",
       " \"leaver's\",\n",
       " 'sra',\n",
       " 'bydd',\n",
       " 'icobs',\n",
       " 'bondselection',\n",
       " 'criticism',\n",
       " 'justified',\n",
       " 'partially',\n",
       " 'subprojects',\n",
       " 'afcila',\n",
       " 'riddor',\n",
       " 'youre',\n",
       " 'redesign',\n",
       " 'carter',\n",
       " \"adult's\",\n",
       " 'landline',\n",
       " 'vw',\n",
       " 'recklessly',\n",
       " 'youth',\n",
       " 'americas',\n",
       " 'wilmslow',\n",
       " 'concession',\n",
       " 'spg',\n",
       " 'calorifier',\n",
       " 'robwhiterecruitment',\n",
       " 'electronicfireandsecuritysolutionsfieldsales',\n",
       " 'properly',\n",
       " 'pertains',\n",
       " 'downloading',\n",
       " 'omantechnicalsalesglobalcompany',\n",
       " 'wares',\n",
       " 'benefitting',\n",
       " 'wilson',\n",
       " 'hazop',\n",
       " 'entrepreneurs',\n",
       " 'laundryfieldserviceengineergloucester',\n",
       " 'battlewinning',\n",
       " 'inherent',\n",
       " 'morris',\n",
       " 'brdesire',\n",
       " 'disney',\n",
       " 'catered',\n",
       " 'investigatory',\n",
       " 'leverage',\n",
       " \"ipo's\",\n",
       " 'mlse',\n",
       " 'banding',\n",
       " 'leveraging',\n",
       " 'compromising',\n",
       " \"bank's\",\n",
       " 'fairgrievematchtech',\n",
       " 'docklands',\n",
       " 'equitrac',\n",
       " \"pc's\",\n",
       " 'tcg',\n",
       " 'scour',\n",
       " 'stamping',\n",
       " 'efthis',\n",
       " 'zuken',\n",
       " 'succinct',\n",
       " 'inyear',\n",
       " 'eradicate',\n",
       " 'rti',\n",
       " 'marsha',\n",
       " 'communities',\n",
       " 'officially',\n",
       " 'union',\n",
       " 'mccall',\n",
       " 'multidiscipline',\n",
       " 'uncappedwell',\n",
       " 'chorley',\n",
       " 'wheelchairs',\n",
       " 'la',\n",
       " 'sitemanager',\n",
       " 'empty',\n",
       " 'bri',\n",
       " 'electronicengineer',\n",
       " 'frequent',\n",
       " 'simulationengineer',\n",
       " 'mcafee',\n",
       " \"hospital's\",\n",
       " 'prequalification',\n",
       " 'assertiveness',\n",
       " 'stretford',\n",
       " 'hatton',\n",
       " 'weathers',\n",
       " 'rentals',\n",
       " 'highimpact',\n",
       " 'jobshcone',\n",
       " 'converging',\n",
       " 'payrolls',\n",
       " 'travels',\n",
       " 'multisite',\n",
       " 'hackney',\n",
       " 'pressurized',\n",
       " 'chemistry',\n",
       " 'exploit',\n",
       " 'leatherhead',\n",
       " 'diecasting',\n",
       " 'intially',\n",
       " 'allowancepensionhealthcare',\n",
       " 'map',\n",
       " 'eic',\n",
       " 'sainsbury',\n",
       " 'ukbased',\n",
       " 'weeklies',\n",
       " \"upp's\",\n",
       " 'commercialdirectoronline',\n",
       " 'constraint',\n",
       " 'sophisticated',\n",
       " 'appliances',\n",
       " 'mdu',\n",
       " 'dixon',\n",
       " 'tunbridge',\n",
       " 'stortford',\n",
       " 'drafting',\n",
       " 'cgeol',\n",
       " 'cgmp',\n",
       " 'excellentleadership',\n",
       " 'systematic',\n",
       " 'mark',\n",
       " 'attire',\n",
       " 'edmundson',\n",
       " 'precious',\n",
       " 'diaries',\n",
       " 'plater',\n",
       " 'thefollowing',\n",
       " 'hwhelanstrgroup',\n",
       " 'customercentric',\n",
       " 'cscs',\n",
       " 'countiesthis',\n",
       " 'manpower',\n",
       " 'commissioned',\n",
       " 'guinness',\n",
       " 'donnington',\n",
       " 'cysylltwch',\n",
       " 'intend',\n",
       " 'ol',\n",
       " 'lettingsmanager',\n",
       " 'solids',\n",
       " 'navigation',\n",
       " 'mips',\n",
       " 'affordability',\n",
       " 'offenders',\n",
       " 'aftercareskills',\n",
       " 'analyze',\n",
       " 'accomplishing',\n",
       " 'ado',\n",
       " 'ricoh',\n",
       " 'headofcompliance',\n",
       " 'remarketing',\n",
       " 'waverley',\n",
       " 'briefed',\n",
       " 'midhurst',\n",
       " 'avonmouth',\n",
       " 'meadowhall',\n",
       " 'excelprofessional',\n",
       " 'indirect',\n",
       " 'hsmp',\n",
       " 'gray',\n",
       " 'item',\n",
       " 'valve',\n",
       " 'possession',\n",
       " 'healthcarewith',\n",
       " 'ooad',\n",
       " 'tem',\n",
       " 'cliche',\n",
       " 'basisthe',\n",
       " 'lr',\n",
       " 'commercialclaimshandler',\n",
       " 'dealt',\n",
       " 'jedwardscitizenrecruitment',\n",
       " 'cefndir',\n",
       " 'schememinimum',\n",
       " 'labels',\n",
       " 'barnstaple',\n",
       " 'rosters',\n",
       " 'opportunties',\n",
       " 'struggled',\n",
       " 'threats',\n",
       " 'knocking',\n",
       " 'alloys',\n",
       " 'ssc',\n",
       " 'ta',\n",
       " 'ems',\n",
       " 'plccrawley',\n",
       " 'evaluations',\n",
       " 'awaits',\n",
       " 'thompsonpenguinrecruitment',\n",
       " 'subteams',\n",
       " 'citizenrecruit',\n",
       " 'residing',\n",
       " 'gynae',\n",
       " 'recreation',\n",
       " 'angle',\n",
       " 'licenses',\n",
       " 'alerts',\n",
       " 'visitsthe',\n",
       " 'pretender',\n",
       " 'arriving',\n",
       " 'frics',\n",
       " \"coding's\",\n",
       " 'friendlier',\n",
       " 'levellers',\n",
       " 'chks',\n",
       " 'diagnostics',\n",
       " 'tec',\n",
       " 'ocassional',\n",
       " 'timelimited',\n",
       " 'meath',\n",
       " 'acces',\n",
       " 'pontefract',\n",
       " 'dydd',\n",
       " 'occaision',\n",
       " 'highlyservice',\n",
       " 'introduces',\n",
       " 'mounted',\n",
       " 'hindsight',\n",
       " 'caliber',\n",
       " 'guillotines',\n",
       " 'servicebased',\n",
       " 'reimburse',\n",
       " 'rails',\n",
       " 'nonlife',\n",
       " 'linda',\n",
       " \"agency's\",\n",
       " 'matthews',\n",
       " 'optimize',\n",
       " 'adolescent',\n",
       " 'constcarillion',\n",
       " 'persuade',\n",
       " 'altera',\n",
       " 'presses',\n",
       " 'distribute',\n",
       " 'suggesting',\n",
       " 'nonspecialist',\n",
       " 'magnetics',\n",
       " 'impacting',\n",
       " 'dock',\n",
       " 'warranties',\n",
       " 'careersflamehealth',\n",
       " 'oxygen',\n",
       " 'inpatient',\n",
       " 'corporatetaxaccounantcoventry',\n",
       " 'availablefollow',\n",
       " 'cradle',\n",
       " 'ids',\n",
       " 'walking',\n",
       " 'electrifying',\n",
       " 'intimidated',\n",
       " 'ddylunio',\n",
       " 'broomfield',\n",
       " 'parcel',\n",
       " 'salesrepresentativehorticulture',\n",
       " 'bodybuilding',\n",
       " 'ddefnyddio',\n",
       " 'clarified',\n",
       " 'chymryd',\n",
       " 'finalising',\n",
       " 'callington',\n",
       " 'shoreham',\n",
       " 'curriculum',\n",
       " 'wrexham',\n",
       " 'holidaysbms',\n",
       " 'height',\n",
       " 'dead',\n",
       " \"achiever's\",\n",
       " 'preserve',\n",
       " 'symbol',\n",
       " 'conduction',\n",
       " 'firstrate',\n",
       " 'diversified',\n",
       " \"hunt's\",\n",
       " 'financialreportinganalyst',\n",
       " 'jack',\n",
       " 'optomechanical',\n",
       " 'guideline',\n",
       " 'assault',\n",
       " 'retired',\n",
       " 'nterpersonal',\n",
       " 'uniques',\n",
       " 'highreliability',\n",
       " 'soutions',\n",
       " 'nonreynolds',\n",
       " 'alban',\n",
       " 'red',\n",
       " 'possesses',\n",
       " 'begun',\n",
       " 'seafield',\n",
       " 'ccg',\n",
       " 'accidents',\n",
       " 'ssembling',\n",
       " 'amtech',\n",
       " 'registeredgeneralnurse',\n",
       " 'surpass',\n",
       " 'byddwch',\n",
       " 'finniganpopulusconsultants',\n",
       " 'glass',\n",
       " 'reinvestment',\n",
       " 'creates',\n",
       " 'crawfordablyresources',\n",
       " 'oq',\n",
       " 'themed',\n",
       " 'repeatable',\n",
       " 'los',\n",
       " 'newbies',\n",
       " 'qp',\n",
       " 'textile',\n",
       " 'restructures',\n",
       " 'backselling',\n",
       " 'iq',\n",
       " 'cp',\n",
       " 'replication',\n",
       " 'earth',\n",
       " 'composing',\n",
       " 'communicational',\n",
       " 'organisers',\n",
       " 'ichgcp',\n",
       " 'benefitsour',\n",
       " 'washroom',\n",
       " 'epitomise',\n",
       " 'linear',\n",
       " 'comcats',\n",
       " 'receptionists',\n",
       " 'datacentre',\n",
       " 'gartlea',\n",
       " 'branding',\n",
       " 'riskandcompliancemanagercardpaymentswatford',\n",
       " 'sponsor',\n",
       " 'usual',\n",
       " 'laid',\n",
       " 'secom',\n",
       " 'renew',\n",
       " 'realstaffing',\n",
       " 'multitasking',\n",
       " 'smb',\n",
       " 'lcwallacehind',\n",
       " 'argue',\n",
       " 'qualityrewarded',\n",
       " 'tunstall',\n",
       " 'halls',\n",
       " 'onlymy',\n",
       " 'beiriannau',\n",
       " 'berkshirec',\n",
       " 'mds',\n",
       " 'kay',\n",
       " 'flows',\n",
       " 'minuets',\n",
       " 'garyitscity',\n",
       " 'grading',\n",
       " 'skillsgreat',\n",
       " 'sl',\n",
       " 'shoppers',\n",
       " 'wk',\n",
       " 'papercut',\n",
       " 'airport',\n",
       " 'catalogue',\n",
       " 'testimonial',\n",
       " 'chriscavendishmaine',\n",
       " 'mountains',\n",
       " 'dirty',\n",
       " 'customerfocussed',\n",
       " 'disruption',\n",
       " 'managementfamily',\n",
       " 'netting',\n",
       " 'modify',\n",
       " 'convey',\n",
       " 'gill',\n",
       " 'urgency',\n",
       " 'brownlee',\n",
       " 'cavelle',\n",
       " 'newyearnewcareersystemengineermfautomotiveproducts',\n",
       " 'consutative',\n",
       " 'municipal',\n",
       " 'fiscal',\n",
       " 'dmm',\n",
       " 'discoveries',\n",
       " 'visualstudioskills',\n",
       " 'asian',\n",
       " 'separately',\n",
       " 'verifying',\n",
       " 'illnesses',\n",
       " 'toptable',\n",
       " 'rabaiotti',\n",
       " 'linq',\n",
       " 'machinesalesrepconstructionequipmentuncappedote',\n",
       " 'judged',\n",
       " 'fd',\n",
       " 'gmm',\n",
       " \"practitioner's\",\n",
       " 'philip',\n",
       " 'bushings',\n",
       " 'dyddiad',\n",
       " 'fundamentally',\n",
       " 'leavers',\n",
       " 'acquire',\n",
       " 'partake',\n",
       " 'regrind',\n",
       " 'qcf',\n",
       " 'theirnumber',\n",
       " 'diffuse',\n",
       " 'glesurfredlinegroup',\n",
       " 'soldering',\n",
       " 'ce',\n",
       " 'cullompton',\n",
       " 'confused',\n",
       " 'distrubutions',\n",
       " 'manageraims',\n",
       " 'exit',\n",
       " 'surrounds',\n",
       " 'psychiatry',\n",
       " 'swiftly',\n",
       " 'dewrance',\n",
       " 'dunfermline',\n",
       " 'lin',\n",
       " 'carbonus',\n",
       " 'frome',\n",
       " 'striling',\n",
       " 'supervises',\n",
       " 'rp',\n",
       " 'exposed',\n",
       " 'ukcc',\n",
       " 'aelod',\n",
       " 'dos',\n",
       " 'telematic',\n",
       " 'concurrently',\n",
       " 'draughting',\n",
       " 'springboard',\n",
       " 'promary',\n",
       " 'motorsport',\n",
       " 'shadowing',\n",
       " 'graduatesalesexecutivetraineefieldsales',\n",
       " 'churchill',\n",
       " 'clinet',\n",
       " 'accrued',\n",
       " 'jig',\n",
       " 'mcdonagh',\n",
       " 'comparing',\n",
       " 'widest',\n",
       " 'omissions',\n",
       " 'senioreducationrecruitmentconsultantbirmingham',\n",
       " 'longevity',\n",
       " 'satisfactorily',\n",
       " 'mrics',\n",
       " 'intellect',\n",
       " 'mortgages',\n",
       " 'conductb',\n",
       " 'binding',\n",
       " 'cambs',\n",
       " \"year's\",\n",
       " 'republic',\n",
       " 'toptier',\n",
       " 'upwards',\n",
       " 'webservices',\n",
       " 'gatwick',\n",
       " 'dietry',\n",
       " 'mjeffreyscompassltd',\n",
       " 'mths',\n",
       " 'hazardous',\n",
       " 'taskcentred',\n",
       " \"crb's\",\n",
       " 'diamonds',\n",
       " 'bridport',\n",
       " 'arrive',\n",
       " 'rsquot',\n",
       " 'ot',\n",
       " 'pest',\n",
       " 'unigolyn',\n",
       " 'openness',\n",
       " 'francisco',\n",
       " 'inter',\n",
       " 'plain',\n",
       " 'nominated',\n",
       " 'ncr',\n",
       " 'kob',\n",
       " 'ewch',\n",
       " 'unquestionably',\n",
       " 'cisa',\n",
       " 'entailing',\n",
       " 'strafford',\n",
       " 'bullexcellent',\n",
       " 'treasuryamct',\n",
       " 'intel',\n",
       " 'sevices',\n",
       " 'msirecruitment',\n",
       " 'darryl',\n",
       " 'harman',\n",
       " 'inviting',\n",
       " 'nebosh',\n",
       " 'macros',\n",
       " 'mwinnresourcingsolutions',\n",
       " 'explorer',\n",
       " 'chatting',\n",
       " 'perthnasol',\n",
       " 'groupcontrolsanalyst',\n",
       " 'areasalesrepresentative',\n",
       " 'randstadcare',\n",
       " 'welleducated',\n",
       " 'arc',\n",
       " 'currency',\n",
       " 'equate',\n",
       " 'autorefractors',\n",
       " 'qualityengineertechnician',\n",
       " 'eyecare',\n",
       " 'robinson',\n",
       " 'ansawdd',\n",
       " 'cfs',\n",
       " 'jasonaddtec',\n",
       " 'databooks',\n",
       " 'avionics',\n",
       " 'remove',\n",
       " 'rheoleiddiol',\n",
       " 'webster',\n",
       " 'emeainsidesalesagent',\n",
       " 'recruited',\n",
       " 'highvolume',\n",
       " 'operationallyfocused',\n",
       " 'clubs',\n",
       " 'ntms',\n",
       " 'rimellpenguinrecruitment',\n",
       " 'internships',\n",
       " 'ashe',\n",
       " 'xpath',\n",
       " 'moved',\n",
       " 'consumption',\n",
       " 'acquisitive',\n",
       " 'multibillion',\n",
       " 'midwife',\n",
       " 'cfranceeclypserecruitment',\n",
       " 'particpate',\n",
       " 'intricate',\n",
       " 'convenientlylocated',\n",
       " 'cassual',\n",
       " 'ofdm',\n",
       " 'insure',\n",
       " 'determines',\n",
       " 'wardrobes',\n",
       " 'productive',\n",
       " 'validating',\n",
       " 'tables',\n",
       " 'indications',\n",
       " 'violent',\n",
       " 'paris',\n",
       " 'nursecurrently',\n",
       " 'retinal',\n",
       " 'distributive',\n",
       " 'tailor',\n",
       " 'businessesproven',\n",
       " 'clyde',\n",
       " 'serviceuser',\n",
       " 'occassionaly',\n",
       " 'surpassing',\n",
       " 'conglomerate',\n",
       " 'fothergill',\n",
       " 'scrutiny',\n",
       " 'evident',\n",
       " 'modes',\n",
       " 'ctu',\n",
       " 'soap',\n",
       " 'cleveland',\n",
       " 'experiencegood',\n",
       " 'composites',\n",
       " 'nb',\n",
       " 'financialadministratorandsupportfleetdept',\n",
       " 'debating',\n",
       " 'numberprevious',\n",
       " 'phoneyour',\n",
       " 'sensitively',\n",
       " 'enduser',\n",
       " 'scottaaronwallis',\n",
       " 'groundbreaking',\n",
       " 'profressionals',\n",
       " 'nit',\n",
       " 'projectmanaging',\n",
       " 'salesaforappointments',\n",
       " 'newsletter',\n",
       " 'stocked',\n",
       " 'nsuring',\n",
       " 'sas',\n",
       " 'diligence',\n",
       " 'outings',\n",
       " 'ortho',\n",
       " 'bradshaw',\n",
       " 'cofrestru',\n",
       " 'tba',\n",
       " 'federation',\n",
       " 'fans',\n",
       " 'clearing',\n",
       " 'sutherland',\n",
       " 'usage',\n",
       " 'eager',\n",
       " 'pe',\n",
       " 'logue',\n",
       " 'supermarket',\n",
       " 'delegated',\n",
       " 'allocations',\n",
       " 'conventions',\n",
       " 'booster',\n",
       " 'daniella',\n",
       " 'indication',\n",
       " 'crack',\n",
       " 'collateral',\n",
       " 'arket',\n",
       " 'mps',\n",
       " 'picked',\n",
       " 'gofyn',\n",
       " 'austell',\n",
       " 'embolization',\n",
       " 'spec',\n",
       " 'combustion',\n",
       " 'stowmarket',\n",
       " 'registeredmanagers',\n",
       " 'fat',\n",
       " 'messages',\n",
       " 'gatekeeper',\n",
       " 'elegant',\n",
       " 'stocking',\n",
       " 'classeneurolondon',\n",
       " 'finalists',\n",
       " 'matthewhayesfirstselection',\n",
       " 'lends',\n",
       " 'remediate',\n",
       " 'estimations',\n",
       " 'gerry',\n",
       " 'sut',\n",
       " 'cataloguing',\n",
       " 'defect',\n",
       " 'peiriannu',\n",
       " 'ymroi',\n",
       " 'interdisciplinary',\n",
       " 'specs',\n",
       " 'sat',\n",
       " 'army',\n",
       " 'highcalibre',\n",
       " 'cncmachinist',\n",
       " 'banbury',\n",
       " 'postqualification',\n",
       " 'approaching',\n",
       " 'brbenefits',\n",
       " 'difficulty',\n",
       " 'antenna',\n",
       " 'apqp',\n",
       " 'jacksonastburymarsden',\n",
       " 'committing',\n",
       " 'evolving',\n",
       " 'endless',\n",
       " 'deadline',\n",
       " 'representations',\n",
       " 'gains',\n",
       " 'healthier',\n",
       " 'accessni',\n",
       " 'dictates',\n",
       " 'stuck',\n",
       " 'diwrnod',\n",
       " 'spotchecks',\n",
       " 'winchfield',\n",
       " 'psychiatrists',\n",
       " 'brskills',\n",
       " 'lodon',\n",
       " 'followingup',\n",
       " 'vulnerabilities',\n",
       " 'industrysponsored',\n",
       " 'recognises',\n",
       " 'nice',\n",
       " 'grew',\n",
       " 'subcontracting',\n",
       " 'relocators',\n",
       " 'wheels',\n",
       " 'inclining',\n",
       " 'sheffieldsalary',\n",
       " 'managementpresenting',\n",
       " 'solves',\n",
       " 'gases',\n",
       " 'predicted',\n",
       " 'recruitmentnhslothian',\n",
       " 'frontoffice',\n",
       " 'geared',\n",
       " 'complications',\n",
       " 'spends',\n",
       " 'ballance',\n",
       " 'denmark',\n",
       " 'nfs',\n",
       " 'oohs',\n",
       " 'caistor',\n",
       " 'innate',\n",
       " 'andrews',\n",
       " 'experiencedmachinistverticalborerheavyengineering',\n",
       " 'consultantled',\n",
       " 'gvs',\n",
       " 'condo',\n",
       " 'leadleyinteractionrecruitment',\n",
       " 'prosesau',\n",
       " 'transportations',\n",
       " 'gears',\n",
       " 'shutdown',\n",
       " 'risksdrive',\n",
       " 'attains',\n",
       " 'litteraly',\n",
       " 'shortfalls',\n",
       " 'formalised',\n",
       " 'intentions',\n",
       " 'telecommunication',\n",
       " 'prefect',\n",
       " 'financialaccountant',\n",
       " 'cities',\n",
       " 'learned',\n",
       " 'hss',\n",
       " 'tsi',\n",
       " 'leighton',\n",
       " 'universal',\n",
       " 'nhsaaa',\n",
       " 'specifics',\n",
       " 'yvonne',\n",
       " 'scissor',\n",
       " 'wave',\n",
       " 'ntd',\n",
       " 'freshly',\n",
       " 'wiling',\n",
       " 'oddeutu',\n",
       " 'microprocessors',\n",
       " 'innovators',\n",
       " 'managment',\n",
       " 'computers',\n",
       " 'pensionsadministrator',\n",
       " 'adeptness',\n",
       " 'shortterm',\n",
       " 'legally',\n",
       " 'agricultural',\n",
       " 'scrutinies',\n",
       " 'cynghori',\n",
       " 'pressures',\n",
       " 'ht',\n",
       " 'rgnscarborough',\n",
       " 'eec',\n",
       " \"builder's\",\n",
       " 'completes',\n",
       " 'warmers',\n",
       " 'formulate',\n",
       " 'gwent',\n",
       " 'leadgenerator',\n",
       " 'ebucklecompassltd',\n",
       " 'managementquality',\n",
       " 'callers',\n",
       " 'financebusinesspartner',\n",
       " 'inverness',\n",
       " 'stat',\n",
       " 'bmw',\n",
       " 'switch',\n",
       " 'scientist',\n",
       " 'mainstay',\n",
       " 'calendar',\n",
       " 'bingley',\n",
       " 'exportsalesexecutivefrenchgermanfluency',\n",
       " 'pci',\n",
       " 'surreysalary',\n",
       " 'hco',\n",
       " 'resume',\n",
       " 'enclosure',\n",
       " 'cramlington',\n",
       " 'movement',\n",
       " 'tourism',\n",
       " 'byfleet',\n",
       " 'vericut',\n",
       " 'admincharterhouserecruitment',\n",
       " 'innovations',\n",
       " 'encouragement',\n",
       " 'mpgw',\n",
       " 'generously',\n",
       " 'wwf',\n",
       " 'nurture',\n",
       " 'staffed',\n",
       " 'fyddwch',\n",
       " 'estateagencyseniorsalesnegotiator',\n",
       " 'aiming',\n",
       " 'commercialfinancialanalyst',\n",
       " 'formation',\n",
       " 'ceremonies',\n",
       " 'commercialaccountant',\n",
       " 'alternating',\n",
       " 'escort',\n",
       " 'pfis',\n",
       " 'playing',\n",
       " 'billings',\n",
       " 'mlss',\n",
       " 'proximity',\n",
       " 'susurface',\n",
       " 'announce',\n",
       " 'stayed',\n",
       " 'integrates',\n",
       " 'mouth',\n",
       " 'buxtonstaractuarial',\n",
       " 'anti',\n",
       " 'hudson',\n",
       " 'patran',\n",
       " 'lauren',\n",
       " 'buoyancy',\n",
       " 'exploiting',\n",
       " 'appendage',\n",
       " 'cement',\n",
       " 'ifss',\n",
       " 'qg',\n",
       " 'hucknall',\n",
       " 'dstlrecruitmentdstl',\n",
       " 'retailsalesconsultantassistantsalesmanager',\n",
       " 'coin',\n",
       " 'fibre',\n",
       " 'oknowledge',\n",
       " 'slots',\n",
       " 'conscientious',\n",
       " 'introducers',\n",
       " 'wirral',\n",
       " 'shadowgraph',\n",
       " 'tackling',\n",
       " 'lining',\n",
       " 'kcarbens',\n",
       " 'sdlc',\n",
       " 'raglenni',\n",
       " 'businessdevelopmentexecutivefieldsalesdartford',\n",
       " 'withbusiness',\n",
       " 'cti',\n",
       " 'emission',\n",
       " 'firstly',\n",
       " 'ne',\n",
       " 'candidatemust',\n",
       " 'nejobsbmsuk',\n",
       " 'organizations',\n",
       " 'picture',\n",
       " 'cryer',\n",
       " 'nele',\n",
       " 'misselling',\n",
       " 'dotted',\n",
       " 'campaigning',\n",
       " 'bprs',\n",
       " 'reflexology',\n",
       " 'romsey',\n",
       " 'educating',\n",
       " 'electronically',\n",
       " 'breath',\n",
       " 'autistic',\n",
       " 'putney',\n",
       " 'deserved',\n",
       " 'filler',\n",
       " 'underpins',\n",
       " 'marketresearch',\n",
       " 'ogledd',\n",
       " 'unwavering',\n",
       " 'postal',\n",
       " 'replying',\n",
       " 'math',\n",
       " 'monetary',\n",
       " 'prereg',\n",
       " 'rpo',\n",
       " 'bots',\n",
       " 'eb',\n",
       " 'fife',\n",
       " 'codnco',\n",
       " 'sufficiently',\n",
       " 'applythis',\n",
       " 'passing',\n",
       " 'residency',\n",
       " 'alliance',\n",
       " 'chelsea',\n",
       " 'presentationability',\n",
       " 'solvency',\n",
       " 'purely',\n",
       " 'distressed',\n",
       " 'escalates',\n",
       " 'april',\n",
       " 'mcginley',\n",
       " 'haves',\n",
       " 'csr',\n",
       " 'mode',\n",
       " 'internalsalesexecutivesalessupporttelecareequipment',\n",
       " 'pubs',\n",
       " 'eurocodes',\n",
       " 'managersector',\n",
       " 'backlog',\n",
       " 'banner',\n",
       " 'envelope',\n",
       " 'signoffs',\n",
       " 'execute',\n",
       " 'fullyfuelled',\n",
       " 'clever',\n",
       " 'venter',\n",
       " 'practically',\n",
       " 'rothery',\n",
       " 'rydym',\n",
       " 'articulated',\n",
       " 'solvitt',\n",
       " 'grip',\n",
       " 'solenoids',\n",
       " ...}"
      ]
     },
     "execution_count": 38,
     "metadata": {},
     "output_type": "execute_result"
    }
   ],
   "source": [
    "lessFreqWords = set(term_fd.hapaxes())\n",
    "lessFreqWords"
   ]
  },
  {
   "cell_type": "code",
   "execution_count": 39,
   "metadata": {},
   "outputs": [
    {
     "data": {
      "text/plain": [
       "4186"
      ]
     },
     "execution_count": 39,
     "metadata": {},
     "output_type": "execute_result"
    }
   ],
   "source": [
    "len(lessFreqWords)"
   ]
  },
  {
   "cell_type": "code",
   "execution_count": 40,
   "metadata": {},
   "outputs": [],
   "source": [
    "copy = tk_descriptions.copy()"
   ]
  },
  {
   "cell_type": "code",
   "execution_count": 41,
   "metadata": {},
   "outputs": [
    {
     "data": {
      "text/plain": [
       "776"
      ]
     },
     "execution_count": 41,
     "metadata": {},
     "output_type": "execute_result"
    }
   ],
   "source": [
    "len(copy)"
   ]
  },
  {
   "cell_type": "code",
   "execution_count": 42,
   "metadata": {},
   "outputs": [],
   "source": [
    "# remove all words that only appear once in the document\n",
    "tk_descriptions = [[w for w in des if w not in lessFreqWords] \\\n",
    "                   for des in tk_descriptions]"
   ]
  },
  {
   "cell_type": "code",
   "execution_count": 43,
   "metadata": {},
   "outputs": [
    {
     "name": "stdout",
     "output_type": "stream",
     "text": [
      "Vocabulary size:  5225\n",
      "Total number of tokens:  103832\n",
      "Lexical diversity:  0.05032167347253255\n",
      "Total number of descriptions: 776\n",
      "Average description length: 133.8041237113402\n",
      "Maximum description length: 471\n",
      "Minimum description length: 12\n",
      "Standard deviation of description length: 71.06786928599081\n"
     ]
    }
   ],
   "source": [
    "stats_print(tk_descriptions)"
   ]
  },
  {
   "cell_type": "markdown",
   "metadata": {},
   "source": [
    "#### Most frequent words w.r.t. Document Frequency\n",
    "We then explore the most frequent words in terms of document frequency:\n"
   ]
  },
  {
   "cell_type": "code",
   "execution_count": 44,
   "metadata": {},
   "outputs": [],
   "source": [
    "# compute document frequency for each unique word/type\n",
    "words_2 = list(chain.from_iterable([set(des) for des in copy]))\n",
    "doc_fd = FreqDist(words_2)"
   ]
  },
  {
   "cell_type": "code",
   "execution_count": 45,
   "metadata": {},
   "outputs": [
    {
     "data": {
      "text/plain": [
       "[('experience', 586),\n",
       " ('role', 499),\n",
       " ('work', 453),\n",
       " ('team', 431),\n",
       " ('working', 407),\n",
       " ('skills', 366),\n",
       " ('client', 358),\n",
       " ('job', 348),\n",
       " ('company', 343),\n",
       " ('business', 342),\n",
       " ('uk', 316),\n",
       " ('excellent', 309),\n",
       " ('management', 301),\n",
       " ('based', 287),\n",
       " ('apply', 286),\n",
       " ('opportunity', 280),\n",
       " ('salary', 270),\n",
       " ('required', 269),\n",
       " ('successful', 267),\n",
       " ('support', 261),\n",
       " ('join', 252),\n",
       " ('candidate', 248),\n",
       " ('service', 242),\n",
       " ('knowledge', 241),\n",
       " ('development', 235),\n",
       " ('leading', 234),\n",
       " ('high', 224),\n",
       " ('cv', 223),\n",
       " ('manager', 220),\n",
       " ('www', 220),\n",
       " ('training', 214),\n",
       " ('sales', 211),\n",
       " ('strong', 211),\n",
       " ('provide', 209),\n",
       " ('including', 209),\n",
       " ('services', 208),\n",
       " ('ability', 201),\n",
       " ('contact', 200),\n",
       " ('position', 199),\n",
       " ('recruitment', 196),\n",
       " ('full', 194),\n",
       " ('benefits', 193),\n",
       " ('posted', 192),\n",
       " ('originally', 191),\n",
       " ('jobseeking', 191),\n",
       " ('clients', 187),\n",
       " ('include', 187),\n",
       " ('good', 187),\n",
       " ('essential', 186),\n",
       " ('information', 184)]"
      ]
     },
     "execution_count": 45,
     "metadata": {},
     "output_type": "execute_result"
    }
   ],
   "source": [
    "doc_fd.most_common(50)"
   ]
  },
  {
   "cell_type": "code",
   "execution_count": 46,
   "metadata": {},
   "outputs": [
    {
     "data": {
      "text/plain": [
       "tuple"
      ]
     },
     "execution_count": 46,
     "metadata": {},
     "output_type": "execute_result"
    }
   ],
   "source": [
    "type(doc_fd.most_common(50)[emp])"
   ]
  },
  {
   "cell_type": "code",
   "execution_count": 47,
   "metadata": {},
   "outputs": [
    {
     "data": {
      "text/plain": [
       "['experience',\n",
       " 'role',\n",
       " 'work',\n",
       " 'team',\n",
       " 'working',\n",
       " 'skills',\n",
       " 'client',\n",
       " 'job',\n",
       " 'company',\n",
       " 'business',\n",
       " 'uk',\n",
       " 'excellent',\n",
       " 'management',\n",
       " 'based',\n",
       " 'apply',\n",
       " 'opportunity',\n",
       " 'salary',\n",
       " 'required',\n",
       " 'successful',\n",
       " 'support',\n",
       " 'join',\n",
       " 'candidate',\n",
       " 'service',\n",
       " 'knowledge',\n",
       " 'development',\n",
       " 'leading',\n",
       " 'high',\n",
       " 'cv',\n",
       " 'manager',\n",
       " 'www',\n",
       " 'training',\n",
       " 'sales',\n",
       " 'strong',\n",
       " 'provide',\n",
       " 'including',\n",
       " 'services',\n",
       " 'ability',\n",
       " 'contact',\n",
       " 'position',\n",
       " 'recruitment',\n",
       " 'full',\n",
       " 'benefits',\n",
       " 'posted',\n",
       " 'originally',\n",
       " 'jobseeking',\n",
       " 'clients',\n",
       " 'include',\n",
       " 'good',\n",
       " 'essential',\n",
       " 'information']"
      ]
     },
     "execution_count": 47,
     "metadata": {},
     "output_type": "execute_result"
    }
   ],
   "source": [
    "df_words = [w[0] for w in doc_fd.most_common(50)]\n",
    "df_words"
   ]
  },
  {
   "cell_type": "code",
   "execution_count": 48,
   "metadata": {},
   "outputs": [],
   "source": [
    "def removeMostFreqWords(des):\n",
    "    return [w for w in des if w not in df_words]\n",
    "\n",
    "tk_descriptions = [removeMostFreqWords(des) for des in tk_descriptions]"
   ]
  },
  {
   "cell_type": "code",
   "execution_count": 49,
   "metadata": {},
   "outputs": [
    {
     "name": "stdout",
     "output_type": "stream",
     "text": [
      "Vocabulary size:  5175\n",
      "Total number of tokens:  82062\n",
      "Lexical diversity:  0.06306207501645097\n",
      "Total number of descriptions: 776\n",
      "Average description length: 105.75\n",
      "Maximum description length: 401\n",
      "Minimum description length: 7\n",
      "Standard deviation of description length: 59.174687878915\n"
     ]
    }
   ],
   "source": [
    "stats_print(tk_descriptions)"
   ]
  },
  {
   "cell_type": "markdown",
   "metadata": {},
   "source": [
    "## Saving required outputs\n",
    "Save the vocabulary, bigrams and job advertisment txt as per spectification.\n",
    "- vocab.txt"
   ]
  },
  {
   "cell_type": "code",
   "execution_count": 50,
   "metadata": {},
   "outputs": [],
   "source": [
    "# save tokenised descriptions to text file\n",
    "def save_descriptions(descriptionFileName,tk_descriptions):\n",
    "    out_file = open(descriptionFileName, 'w') # creates a txt file and open to save the reviews\n",
    "    string = \"\\n\".join([\" \".join(des) for des in tk_descriptions])\n",
    "    out_file.write(string)\n",
    "    out_file.close() # close the file"
   ]
  },
  {
   "cell_type": "code",
   "execution_count": 51,
   "metadata": {},
   "outputs": [
    {
     "data": {
      "text/plain": [
       "776"
      ]
     },
     "execution_count": 51,
     "metadata": {},
     "output_type": "execute_result"
    }
   ],
   "source": [
    "len(job_data['target'])"
   ]
  },
  {
   "cell_type": "code",
   "execution_count": 52,
   "metadata": {},
   "outputs": [],
   "source": [
    "# save targets of each job data to text file\n",
    "def save_targets(targetFileName, targets):\n",
    "    out_file = open(targetFileName, 'w') # create a txt file and open to save targets\n",
    "    string = \"\\n\".join(str(t) for t in targets)\n",
    "    out_file.write(string)\n",
    "    out_file.close"
   ]
  },
  {
   "cell_type": "code",
   "execution_count": 53,
   "metadata": {},
   "outputs": [],
   "source": [
    "save_targets('targets.txt', job_data['target'])"
   ]
  },
  {
   "cell_type": "code",
   "execution_count": 54,
   "metadata": {},
   "outputs": [],
   "source": [
    "save_descriptions('descriptions.txt', tk_descriptions)"
   ]
  },
  {
   "cell_type": "code",
   "execution_count": 55,
   "metadata": {},
   "outputs": [
    {
     "name": "stdout",
     "output_type": "stream",
     "text": [
      "776\n"
     ]
    }
   ],
   "source": [
    "print(len(tk_descriptions))"
   ]
  },
  {
   "cell_type": "code",
   "execution_count": 56,
   "metadata": {},
   "outputs": [
    {
     "name": "stdout",
     "output_type": "stream",
     "text": [
      "['eastleigh', 'investments', 'treasury', 'controller', 'duties', 'responsibility', 'transactional', 'analysis', 'oversight', 'xe', 'investment', 'portfolio', 'compliance', 'relevant', 'sections', 'relevant', 'policies', 'ensure', 'capital', 'liquid', 'resources', 'cashflow', 'managed', 'efficiently', 'deliver', 'consistently', 'relevant', 'kpis', 'analysing', 'putting', 'action', 'plans', 'place', 'process', 'issues', 'manage', 'day', 'day', 'relationships', 'xe', 'outsourced', 'investment', 'managers', 'ensuring', 'mutual', 'understanding', 'xe', 'operations', 'systems', 'developments', 'efficiently', 'effectively', 'endtoend', 'investment', 'processes', 'ensuring', 'processes', 'procedures', 'risks', 'controls', 'documented', 'effective', 'efficient', 'regularly', 'review', 'test', 'processes', 'controls', 'accordance', 'finance', 'control', 'risk', 'framework', 'build', 'relationships', 'stakeholders', 'levels', 'internal', 'external', 'challenge', 'assumptions', 'positively', 'bring', 'people', 'journey', 'written', 'communication', 'fluent', 'articulate', 'confident', 'spoken', 'communication', 'understanding', 'investment', 'principles', 'significant', 'practical', 'application', 'coupled', 'analytical', 'risks', 'control', 'awareness', 'organisational', 'planning', 'coupled', 'drive', 'solutions', 'proactive', 'highly', 'motivated', 'change', 'orientated', 'identify', 'obstacles', 'clear', 'effectively', 'literate', 'accounting', 'systems', 'data', 'warehouse', 'architectures', 'desktop', 'systems', 'fluent', 'microsoft', 'excel', 'word', 'powerpoint', 'understand', 'evaluate', 'interpret', 'diverse', 'financial', 'data', 'treasury', 'investment', 'aca', 'acca', 'cima', 'qualified', 'equivalent', 'limited', 'acting', 'agency', 'relation', 'discriminate', 'grounds', 'age', 'race', 'gender', 'disability', 'creed', 'sexual', 'orientation', 'comply', 'relevant', 'legislation', 'hear', 'back', 'days', 'assume', 'totaljobs']\n"
     ]
    }
   ],
   "source": [
    "print(tk_descriptions[emp])"
   ]
  },
  {
   "cell_type": "code",
   "execution_count": 57,
   "metadata": {},
   "outputs": [],
   "source": [
    "# conduct the vocabulary from tokenised list\n",
    "words = list(chain.from_iterable(tk_descriptions))\n",
    "vocab = sorted(list(set(words)))"
   ]
  },
  {
   "cell_type": "code",
   "execution_count": 58,
   "metadata": {
    "scrolled": true
   },
   "outputs": [
    {
     "data": {
      "text/plain": [
       "'absence'"
      ]
     },
     "execution_count": 58,
     "metadata": {},
     "output_type": "execute_result"
    }
   ],
   "source": [
    "vocab[emp]"
   ]
  },
  {
   "cell_type": "code",
   "execution_count": 59,
   "metadata": {},
   "outputs": [],
   "source": [
    "for i in range(len(vocab)):\n",
    "    vocab[i] = vocab[i] + \": \" + str(i)"
   ]
  },
  {
   "cell_type": "code",
   "execution_count": 60,
   "metadata": {},
   "outputs": [
    {
     "data": {
      "text/plain": [
       "'absence: 10'"
      ]
     },
     "execution_count": 60,
     "metadata": {},
     "output_type": "execute_result"
    }
   ],
   "source": [
    "vocab[emp]"
   ]
  },
  {
   "cell_type": "code",
   "execution_count": 61,
   "metadata": {},
   "outputs": [],
   "source": [
    "# save vocab to text file\n",
    "def save_vocab(vocabFileName, vocab):\n",
    "    out_file = open(vocabFileName, 'w') # creates a txt file and open to save the reviews\n",
    "    string = \"\\n\".join(word_string for word_string in vocab)\n",
    "    out_file.write(string)\n",
    "    out_file.close() # close the file"
   ]
  },
  {
   "cell_type": "code",
   "execution_count": 62,
   "metadata": {},
   "outputs": [],
   "source": [
    "save_vocab(\"./vocab.txt\", vocab)"
   ]
  },
  {
   "cell_type": "markdown",
   "metadata": {},
   "source": [
    "#### Extract webindex and store in text file for later use"
   ]
  },
  {
   "cell_type": "code",
   "execution_count": 63,
   "metadata": {},
   "outputs": [
    {
     "data": {
      "text/plain": [
       "'71851935'"
      ]
     },
     "execution_count": 63,
     "metadata": {},
     "output_type": "execute_result"
    }
   ],
   "source": [
    "re.search(r'Webindex:\\s(\\d*)\\n', \"Webindex: 71851935\\n\").group(1)"
   ]
  },
  {
   "cell_type": "code",
   "execution_count": 64,
   "metadata": {},
   "outputs": [
    {
     "name": "stdout",
     "output_type": "stream",
     "text": [
      "71851935\n"
     ]
    }
   ],
   "source": [
    "webindex_match = re.search(r'Webindex:\\s(\\d*)\\n', job_data['data'][emp].decode('utf-8'))\n",
    "print(webindex_match.group(1))"
   ]
  },
  {
   "cell_type": "code",
   "execution_count": 65,
   "metadata": {},
   "outputs": [],
   "source": [
    "webindex = [re.search(r'Webindex:\\s(\\d*)\\n', job_data['data'][i].decode('utf-8')).group(1) for i in range(len(job_data['data']))]"
   ]
  },
  {
   "cell_type": "code",
   "execution_count": 66,
   "metadata": {},
   "outputs": [
    {
     "data": {
      "text/plain": [
       "776"
      ]
     },
     "execution_count": 66,
     "metadata": {},
     "output_type": "execute_result"
    }
   ],
   "source": [
    "len(webindex)"
   ]
  },
  {
   "cell_type": "code",
   "execution_count": 67,
   "metadata": {},
   "outputs": [
    {
     "data": {
      "text/plain": [
       "'71851935'"
      ]
     },
     "execution_count": 67,
     "metadata": {},
     "output_type": "execute_result"
    }
   ],
   "source": [
    "webindex[emp]"
   ]
  },
  {
   "cell_type": "code",
   "execution_count": 68,
   "metadata": {},
   "outputs": [
    {
     "name": "stdout",
     "output_type": "stream",
     "text": [
      "Stored 'tk_descriptions' (list)\n"
     ]
    }
   ],
   "source": [
    "%store tk_descriptions"
   ]
  },
  {
   "cell_type": "code",
   "execution_count": 69,
   "metadata": {},
   "outputs": [],
   "source": [
    "def saveWebIndex(webindexFileName, webindex):\n",
    "    outfile = open(webindexFileName, 'w')\n",
    "    string = \"\\n\".join(index for index in webindex)\n",
    "    outfile.write(string)\n",
    "    outfile.close()"
   ]
  },
  {
   "cell_type": "code",
   "execution_count": 70,
   "metadata": {},
   "outputs": [],
   "source": [
    "saveWebIndex(\"webindex.txt\", webindex)"
   ]
  },
  {
   "cell_type": "markdown",
   "metadata": {},
   "source": [
    "## Summary\n",
    "In this task I have pre-processed the descriptions of all job datas to product a vocab which is saved to text file for further tasks."
   ]
  },
  {
   "cell_type": "code",
   "execution_count": null,
   "metadata": {},
   "outputs": [],
   "source": []
  }
 ],
 "metadata": {
  "kernelspec": {
   "display_name": "Python 3 (ipykernel)",
   "language": "python",
   "name": "python3"
  },
  "language_info": {
   "codemirror_mode": {
    "name": "ipython",
    "version": 3
   },
   "file_extension": ".py",
   "mimetype": "text/x-python",
   "name": "python",
   "nbconvert_exporter": "python",
   "pygments_lexer": "ipython3",
   "version": "3.10.9"
  }
 },
 "nbformat": 4,
 "nbformat_minor": 1
}
